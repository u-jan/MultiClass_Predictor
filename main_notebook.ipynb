{
 "cells": [
  {
   "cell_type": "markdown",
   "metadata": {},
   "source": [
    "## PROJECT\n",
    "\n",
    "\n",
    "Evaluation criteria: Multi Class Log Loss\n",
    "\n",
    "https://scikit-learn.org/stable/modules/generated/sklearn.metrics.log_loss.html\n",
    "\n",
    "https://www.youtube.com/watch?v=IVVVjBSk9N0\n",
    "\n",
    "also go with the confsion matrix\n",
    "\n",
    "## add success criteria metric! @ kaggle page evaluation\n",
    "\n",
    "## multiclass log loss !"
   ]
  },
  {
   "cell_type": "code",
   "execution_count": null,
   "metadata": {},
   "outputs": [],
   "source": []
  },
  {
   "cell_type": "code",
   "execution_count": 1,
   "metadata": {},
   "outputs": [],
   "source": [
    "# import numpy as np\n",
    "# import pandas as pd\n",
    "# import seaborn as sns\n",
    "# import matplotlib.pyplot as plt\n",
    "# from scipy import stats\n",
    "# import source.funk as fun\n",
    "\n",
    "# sns.set_palette('Set2')  # look at those beautiful colours\n",
    "\n",
    "# import warnings\n",
    "# warnings.filterwarnings('ignore')\n",
    "\n",
    "# from sklearn.feature_extraction.text import TfidfVectorizer\n",
    "# from nltk.corpus import stopwords"
   ]
  },
  {
   "cell_type": "code",
   "execution_count": 2,
   "metadata": {},
   "outputs": [],
   "source": [
    "import pandas as pd\n",
    "import matplotlib.pyplot as plt\n",
    "import re\n",
    "import time\n",
    "import warnings\n",
    "import numpy as np\n",
    "from nltk.corpus import stopwords\n",
    "from sklearn.decomposition import TruncatedSVD\n",
    "from sklearn.preprocessing import normalize\n",
    "from sklearn.feature_extraction.text import CountVectorizer\n",
    "from sklearn.manifold import TSNE\n",
    "import seaborn as sns\n",
    "from sklearn.neighbors import KNeighborsClassifier\n",
    "from sklearn.metrics import confusion_matrix\n",
    "from sklearn.metrics.classification import accuracy_score,log_loss\n",
    "from sklearn.feature_extraction.text import TfidfVectorizer\n",
    "from sklearn.linear_model import SGDClassifier\n",
    "from imblearn.over_sampling import SMOTE\n",
    "from collections import Counter\n",
    "from scipy.sparse import hstack\n",
    "from sklearn.multiclass import OneVsRestClassifier\n",
    "from sklearn.svm import SVC\n",
    "from sklearn.model_selection import StratifiedKFold\n",
    "from collections import Counter,defaultdict\n",
    "from sklearn.calibration import CalibratedClassifierCV\n",
    "from sklearn.naive_bayes import MultinomialNB\n",
    "from sklearn.naive_bayes import GaussianNB\n",
    "from sklearn.model_selection import train_test_split\n",
    "from sklearn.model_selection import GridSearchCV\n",
    "import math\n",
    "from sklearn.metrics import normalized_mutual_info_score\n",
    "from sklearn.ensemble import RandomForestClassifier\n",
    "\n",
    "warnings.filterwarnings('ignore')\n",
    "\n",
    "from mlxtend.classifier import StackingClassifier\n",
    "import source.funk as fun\n",
    "\n",
    "sns.set_palette('Set2')  # look at those beautiful colours"
   ]
  },
  {
   "cell_type": "markdown",
   "metadata": {},
   "source": [
    "- https://towardsdatascience.com/a-step-by-step-guide-for-creating-advanced-python-data-visualizations-with-seaborn-matplotlib-1579d6a1a7d0"
   ]
  },
  {
   "cell_type": "markdown",
   "metadata": {},
   "source": [
    "### DATA"
   ]
  },
  {
   "cell_type": "code",
   "execution_count": 3,
   "metadata": {},
   "outputs": [],
   "source": [
    "data_text = pd.read_csv('data/training_text',sep=\"\\|\\|\",engine='python',names=['ID','TEXT'],skiprows=1)\n",
    "df_variants = pd.read_csv('data/training_variants')"
   ]
  },
  {
   "cell_type": "code",
   "execution_count": 4,
   "metadata": {},
   "outputs": [
    {
     "data": {
      "text/html": [
       "<div>\n",
       "<style scoped>\n",
       "    .dataframe tbody tr th:only-of-type {\n",
       "        vertical-align: middle;\n",
       "    }\n",
       "\n",
       "    .dataframe tbody tr th {\n",
       "        vertical-align: top;\n",
       "    }\n",
       "\n",
       "    .dataframe thead th {\n",
       "        text-align: right;\n",
       "    }\n",
       "</style>\n",
       "<table border=\"1\" class=\"dataframe\">\n",
       "  <thead>\n",
       "    <tr style=\"text-align: right;\">\n",
       "      <th></th>\n",
       "      <th>ID</th>\n",
       "      <th>TEXT</th>\n",
       "    </tr>\n",
       "  </thead>\n",
       "  <tbody>\n",
       "    <tr>\n",
       "      <th>0</th>\n",
       "      <td>0</td>\n",
       "      <td>Cyclin-dependent kinases (CDKs) regulate a var...</td>\n",
       "    </tr>\n",
       "    <tr>\n",
       "      <th>1</th>\n",
       "      <td>1</td>\n",
       "      <td>Abstract Background  Non-small cell lung canc...</td>\n",
       "    </tr>\n",
       "    <tr>\n",
       "      <th>2</th>\n",
       "      <td>2</td>\n",
       "      <td>Abstract Background  Non-small cell lung canc...</td>\n",
       "    </tr>\n",
       "  </tbody>\n",
       "</table>\n",
       "</div>"
      ],
      "text/plain": [
       "   ID                                               TEXT\n",
       "0   0  Cyclin-dependent kinases (CDKs) regulate a var...\n",
       "1   1   Abstract Background  Non-small cell lung canc...\n",
       "2   2   Abstract Background  Non-small cell lung canc..."
      ]
     },
     "execution_count": 4,
     "metadata": {},
     "output_type": "execute_result"
    }
   ],
   "source": [
    "data_text.head(3)"
   ]
  },
  {
   "cell_type": "code",
   "execution_count": 5,
   "metadata": {},
   "outputs": [
    {
     "data": {
      "text/html": [
       "<div>\n",
       "<style scoped>\n",
       "    .dataframe tbody tr th:only-of-type {\n",
       "        vertical-align: middle;\n",
       "    }\n",
       "\n",
       "    .dataframe tbody tr th {\n",
       "        vertical-align: top;\n",
       "    }\n",
       "\n",
       "    .dataframe thead th {\n",
       "        text-align: right;\n",
       "    }\n",
       "</style>\n",
       "<table border=\"1\" class=\"dataframe\">\n",
       "  <thead>\n",
       "    <tr style=\"text-align: right;\">\n",
       "      <th></th>\n",
       "      <th>ID</th>\n",
       "      <th>Gene</th>\n",
       "      <th>Variation</th>\n",
       "      <th>Class</th>\n",
       "    </tr>\n",
       "  </thead>\n",
       "  <tbody>\n",
       "    <tr>\n",
       "      <th>0</th>\n",
       "      <td>0</td>\n",
       "      <td>FAM58A</td>\n",
       "      <td>Truncating Mutations</td>\n",
       "      <td>1</td>\n",
       "    </tr>\n",
       "    <tr>\n",
       "      <th>1</th>\n",
       "      <td>1</td>\n",
       "      <td>CBL</td>\n",
       "      <td>W802*</td>\n",
       "      <td>2</td>\n",
       "    </tr>\n",
       "    <tr>\n",
       "      <th>2</th>\n",
       "      <td>2</td>\n",
       "      <td>CBL</td>\n",
       "      <td>Q249E</td>\n",
       "      <td>2</td>\n",
       "    </tr>\n",
       "  </tbody>\n",
       "</table>\n",
       "</div>"
      ],
      "text/plain": [
       "   ID    Gene             Variation  Class\n",
       "0   0  FAM58A  Truncating Mutations      1\n",
       "1   1     CBL                 W802*      2\n",
       "2   2     CBL                 Q249E      2"
      ]
     },
     "execution_count": 5,
     "metadata": {},
     "output_type": "execute_result"
    }
   ],
   "source": [
    "df_variants.head(3)"
   ]
  },
  {
   "cell_type": "code",
   "execution_count": 6,
   "metadata": {},
   "outputs": [
    {
     "name": "stdout",
     "output_type": "stream",
     "text": [
      "<class 'pandas.core.frame.DataFrame'>\n",
      "RangeIndex: 3321 entries, 0 to 3320\n",
      "Data columns (total 4 columns):\n",
      "ID           3321 non-null int64\n",
      "Gene         3321 non-null object\n",
      "Variation    3321 non-null object\n",
      "Class        3321 non-null int64\n",
      "dtypes: int64(2), object(2)\n",
      "memory usage: 103.9+ KB\n"
     ]
    }
   ],
   "source": [
    "df_variants.info()"
   ]
  },
  {
   "cell_type": "code",
   "execution_count": 7,
   "metadata": {},
   "outputs": [
    {
     "data": {
      "text/html": [
       "<div>\n",
       "<style scoped>\n",
       "    .dataframe tbody tr th:only-of-type {\n",
       "        vertical-align: middle;\n",
       "    }\n",
       "\n",
       "    .dataframe tbody tr th {\n",
       "        vertical-align: top;\n",
       "    }\n",
       "\n",
       "    .dataframe thead th {\n",
       "        text-align: right;\n",
       "    }\n",
       "</style>\n",
       "<table border=\"1\" class=\"dataframe\">\n",
       "  <thead>\n",
       "    <tr style=\"text-align: right;\">\n",
       "      <th></th>\n",
       "      <th>ID</th>\n",
       "      <th>Class</th>\n",
       "    </tr>\n",
       "  </thead>\n",
       "  <tbody>\n",
       "    <tr>\n",
       "      <th>count</th>\n",
       "      <td>3321.000000</td>\n",
       "      <td>3321.000000</td>\n",
       "    </tr>\n",
       "    <tr>\n",
       "      <th>mean</th>\n",
       "      <td>1660.000000</td>\n",
       "      <td>4.365854</td>\n",
       "    </tr>\n",
       "    <tr>\n",
       "      <th>std</th>\n",
       "      <td>958.834449</td>\n",
       "      <td>2.309781</td>\n",
       "    </tr>\n",
       "    <tr>\n",
       "      <th>min</th>\n",
       "      <td>0.000000</td>\n",
       "      <td>1.000000</td>\n",
       "    </tr>\n",
       "    <tr>\n",
       "      <th>25%</th>\n",
       "      <td>830.000000</td>\n",
       "      <td>2.000000</td>\n",
       "    </tr>\n",
       "    <tr>\n",
       "      <th>50%</th>\n",
       "      <td>1660.000000</td>\n",
       "      <td>4.000000</td>\n",
       "    </tr>\n",
       "    <tr>\n",
       "      <th>75%</th>\n",
       "      <td>2490.000000</td>\n",
       "      <td>7.000000</td>\n",
       "    </tr>\n",
       "    <tr>\n",
       "      <th>max</th>\n",
       "      <td>3320.000000</td>\n",
       "      <td>9.000000</td>\n",
       "    </tr>\n",
       "  </tbody>\n",
       "</table>\n",
       "</div>"
      ],
      "text/plain": [
       "                ID        Class\n",
       "count  3321.000000  3321.000000\n",
       "mean   1660.000000     4.365854\n",
       "std     958.834449     2.309781\n",
       "min       0.000000     1.000000\n",
       "25%     830.000000     2.000000\n",
       "50%    1660.000000     4.000000\n",
       "75%    2490.000000     7.000000\n",
       "max    3320.000000     9.000000"
      ]
     },
     "execution_count": 7,
     "metadata": {},
     "output_type": "execute_result"
    }
   ],
   "source": [
    "df_variants.describe()"
   ]
  },
  {
   "cell_type": "code",
   "execution_count": 8,
   "metadata": {},
   "outputs": [
    {
     "data": {
      "text/plain": [
       "(3321, 4)"
      ]
     },
     "execution_count": 8,
     "metadata": {},
     "output_type": "execute_result"
    }
   ],
   "source": [
    "df_variants.shape"
   ]
  },
  {
   "cell_type": "code",
   "execution_count": 9,
   "metadata": {},
   "outputs": [
    {
     "data": {
      "text/plain": [
       "(3321, 2)"
      ]
     },
     "execution_count": 9,
     "metadata": {},
     "output_type": "execute_result"
    }
   ],
   "source": [
    "data_text.shape"
   ]
  },
  {
   "cell_type": "code",
   "execution_count": 10,
   "metadata": {},
   "outputs": [
    {
     "name": "stdout",
     "output_type": "stream",
     "text": [
      "<class 'pandas.core.frame.DataFrame'>\n",
      "RangeIndex: 3321 entries, 0 to 3320\n",
      "Data columns (total 2 columns):\n",
      "ID      3321 non-null int64\n",
      "TEXT    3316 non-null object\n",
      "dtypes: int64(1), object(1)\n",
      "memory usage: 52.0+ KB\n"
     ]
    }
   ],
   "source": [
    "data_text.info()"
   ]
  },
  {
   "cell_type": "markdown",
   "metadata": {},
   "source": [
    "We do have 5 missing values on TEXT data"
   ]
  },
  {
   "cell_type": "code",
   "execution_count": 11,
   "metadata": {},
   "outputs": [
    {
     "data": {
      "text/plain": [
       "Index(['ID', 'TEXT'], dtype='object')"
      ]
     },
     "execution_count": 11,
     "metadata": {},
     "output_type": "execute_result"
    }
   ],
   "source": [
    "data_text.columns"
   ]
  },
  {
   "cell_type": "code",
   "execution_count": 12,
   "metadata": {},
   "outputs": [
    {
     "data": {
      "text/html": [
       "<div>\n",
       "<style scoped>\n",
       "    .dataframe tbody tr th:only-of-type {\n",
       "        vertical-align: middle;\n",
       "    }\n",
       "\n",
       "    .dataframe tbody tr th {\n",
       "        vertical-align: top;\n",
       "    }\n",
       "\n",
       "    .dataframe thead th {\n",
       "        text-align: right;\n",
       "    }\n",
       "</style>\n",
       "<table border=\"1\" class=\"dataframe\">\n",
       "  <thead>\n",
       "    <tr style=\"text-align: right;\">\n",
       "      <th></th>\n",
       "      <th>ID</th>\n",
       "      <th>TEXT</th>\n",
       "    </tr>\n",
       "  </thead>\n",
       "  <tbody>\n",
       "    <tr>\n",
       "      <th>0</th>\n",
       "      <td>0</td>\n",
       "      <td>Cyclin-dependent kinases (CDKs) regulate a var...</td>\n",
       "    </tr>\n",
       "    <tr>\n",
       "      <th>1</th>\n",
       "      <td>1</td>\n",
       "      <td>Abstract Background  Non-small cell lung canc...</td>\n",
       "    </tr>\n",
       "    <tr>\n",
       "      <th>2</th>\n",
       "      <td>2</td>\n",
       "      <td>Abstract Background  Non-small cell lung canc...</td>\n",
       "    </tr>\n",
       "    <tr>\n",
       "      <th>3</th>\n",
       "      <td>3</td>\n",
       "      <td>Recent evidence has demonstrated that acquired...</td>\n",
       "    </tr>\n",
       "    <tr>\n",
       "      <th>4</th>\n",
       "      <td>4</td>\n",
       "      <td>Oncogenic mutations in the monomeric Casitas B...</td>\n",
       "    </tr>\n",
       "  </tbody>\n",
       "</table>\n",
       "</div>"
      ],
      "text/plain": [
       "   ID                                               TEXT\n",
       "0   0  Cyclin-dependent kinases (CDKs) regulate a var...\n",
       "1   1   Abstract Background  Non-small cell lung canc...\n",
       "2   2   Abstract Background  Non-small cell lung canc...\n",
       "3   3  Recent evidence has demonstrated that acquired...\n",
       "4   4  Oncogenic mutations in the monomeric Casitas B..."
      ]
     },
     "execution_count": 12,
     "metadata": {},
     "output_type": "execute_result"
    }
   ],
   "source": [
    "data_text.head()"
   ]
  },
  {
   "cell_type": "code",
   "execution_count": 13,
   "metadata": {},
   "outputs": [
    {
     "data": {
      "text/plain": [
       "'Cyclin-dependent kinases (CDKs) regulate a variety of fundamental cellular processes. CDK10 stands out as one of the last orphan CDKs for which no activating cyclin has been identified and no kinase activity revealed. Previous work has shown that CDK10 silencing increases ETS2 (v-ets erythroblastosis virus E26 oncogene homolog 2)-driven activation of the MAPK pathway, which confers tamoxifen resistance to breast cancer cells. The precise mechanisms by which CDK10 modulates ETS2 activity, and more generally the functions of CDK10, remain elusive. Here we demonstrate that CDK10 is a cyclin-dependent kinase by identifying cyclin M as an activating cyclin. Cyclin M, an orphan cyclin, is the product of FAM58A, whose mutations cause STAR syndrome, a human developmental anomaly whose features include toe syndactyly, telecanthus, and anogenital and renal malformations. We show that STAR syndrome-associated cyclin M mutants are unable to interact with CDK10. Cyclin M silencing phenocopies CDK10'"
      ]
     },
     "execution_count": 13,
     "metadata": {},
     "output_type": "execute_result"
    }
   ],
   "source": [
    "data_text.TEXT[0][0:1000]"
   ]
  },
  {
   "cell_type": "markdown",
   "metadata": {},
   "source": [
    "- data_text columns: ID - TEXT\n",
    "- data_variants col: ID - Gene - variants - class"
   ]
  },
  {
   "cell_type": "code",
   "execution_count": 14,
   "metadata": {},
   "outputs": [
    {
     "data": {
      "text/plain": [
       "array([1, 2, 3, 4, 5, 6, 7, 8, 9])"
      ]
     },
     "execution_count": 14,
     "metadata": {},
     "output_type": "execute_result"
    }
   ],
   "source": [
    "df_variants.Class.unique()"
   ]
  },
  {
   "cell_type": "markdown",
   "metadata": {},
   "source": [
    "MultiClass Prediction Problem"
   ]
  },
  {
   "cell_type": "markdown",
   "metadata": {},
   "source": [
    "- Since we are predicting results concerning health, we can not afford high rates of errors. In other words cost of false predictions are high."
   ]
  },
  {
   "cell_type": "markdown",
   "metadata": {},
   "source": [
    "**Target Classes: df.Class**"
   ]
  },
  {
   "cell_type": "code",
   "execution_count": 15,
   "metadata": {},
   "outputs": [
    {
     "data": {
      "image/png": "[encoded data removed]",
      "text/plain": [
       "<Figure size 432x288 with 1 Axes>"
      ]
     },
     "metadata": {
      "needs_background": "light"
     },
     "output_type": "display_data"
    }
   ],
   "source": [
    "fun.seaborn_count_barplot(df_variants,'Class')"
   ]
  },
  {
   "cell_type": "markdown",
   "metadata": {},
   "source": [
    "Imbalanced classes. Studies mostly concentrated on cancer types 7, 4, 2, 1.\n",
    "\n",
    "And types 3, 8 ,9 are weak in numbers.\n",
    "\n",
    "We can build a model which concentrates on dominant classes as long as it still returns reasonable signal for weaker ones.\n",
    "\n",
    "Standard algorithms are often biased towards the dominant class. They fail to consider data distribution.\n",
    "\n",
    "A basic yet less recomended way to deal with the unbalanced dataset issue in a multi class categorization project, is to ignore weak classes by perceiving them as outliers.\n",
    "\n",
    "Another methadology can be oversampling such as SMOTE algoritm."
   ]
  },
  {
   "cell_type": "code",
   "execution_count": 16,
   "metadata": {},
   "outputs": [
    {
     "data": {
      "text/plain": [
       "count    3321.000000\n",
       "mean        4.365854\n",
       "std         2.309781\n",
       "min         1.000000\n",
       "25%         2.000000\n",
       "50%         4.000000\n",
       "75%         7.000000\n",
       "max         9.000000\n",
       "Name: Class, dtype: float64"
      ]
     },
     "execution_count": 16,
     "metadata": {},
     "output_type": "execute_result"
    }
   ],
   "source": [
    "df_variants.Class.describe()"
   ]
  },
  {
   "cell_type": "markdown",
   "metadata": {},
   "source": [
    "## GENE"
   ]
  },
  {
   "cell_type": "code",
   "execution_count": 17,
   "metadata": {},
   "outputs": [],
   "source": [
    "df = df_variants.copy()"
   ]
  },
  {
   "cell_type": "code",
   "execution_count": 18,
   "metadata": {},
   "outputs": [
    {
     "data": {
      "text/plain": [
       "264"
      ]
     },
     "execution_count": 18,
     "metadata": {},
     "output_type": "execute_result"
    }
   ],
   "source": [
    "len(df.Gene.unique())"
   ]
  },
  {
   "cell_type": "markdown",
   "metadata": {},
   "source": [
    "Thats a lot of unique Genes.\n",
    "\n",
    "Multi Class Classification Problem because our target has 9 different variables.\n",
    "\n",
    "In medical problems errors can be really costly so we can not afford errors.\n",
    "\n",
    "Let's have a look at the most frequently found genes in each of the 9 classes."
   ]
  },
  {
   "cell_type": "code",
   "execution_count": 19,
   "metadata": {},
   "outputs": [
    {
     "data": {
      "image/png": "[encoded data removed]",
      "text/plain": [
       "<Figure size 1080x1080 with 9 Axes>"
      ]
     },
     "metadata": {
      "needs_background": "light"
     },
     "output_type": "display_data"
    }
   ],
   "source": [
    "fig, axs = plt.subplots(ncols=3, nrows=3, figsize=(15,15))\n",
    "\n",
    "for i in range(3):\n",
    "    for j in range(3):\n",
    "        gene_count_grp = df[df[\"Class\"]==((i*3+j)+1)].groupby('Gene')[\"ID\"].count().reset_index()\n",
    "        sorted_gene_group = gene_count_grp.sort_values('ID', ascending=False)\n",
    "        sorted_gene_group_top_7 = sorted_gene_group[:7]\n",
    "        sns.barplot(x=\"Gene\", y=\"ID\", data=sorted_gene_group_top_7, ax=axs[i][j])"
   ]
  },
  {
   "cell_type": "markdown",
   "metadata": {},
   "source": [
    "**TEXT Processing: NLTK**"
   ]
  },
  {
   "cell_type": "code",
   "execution_count": 20,
   "metadata": {},
   "outputs": [
    {
     "data": {
      "text/plain": [
       "'Cyclin-dependent kinases (CDKs) regulate a variety of fundamental cellular processes. CDK10 stands out as one of the last orphan CDKs for which no activating cyclin has been identified and no kinase activity revealed. Previous work has shown that CDK10 silencing increases ETS2 (v-ets erythroblastosis virus E26 oncogene homolog 2)-driven activation of the MAPK pathway, which confers tamoxifen resistance to breast cancer cells. The precise mechanisms by which CDK10 modulates ETS2 activity, and mor'"
      ]
     },
     "execution_count": 20,
     "metadata": {},
     "output_type": "execute_result"
    }
   ],
   "source": [
    "data_text.TEXT[0][0:500] "
   ]
  },
  {
   "cell_type": "markdown",
   "metadata": {},
   "source": [
    "**Clean the text**"
   ]
  },
  {
   "cell_type": "code",
   "execution_count": 21,
   "metadata": {},
   "outputs": [],
   "source": [
    "stop_words = set(stopwords.words('english'))"
   ]
  },
  {
   "cell_type": "markdown",
   "metadata": {},
   "source": [
    "\n",
    "regular expression: https://docs.python.org/2/library/re.html"
   ]
  },
  {
   "cell_type": "code",
   "execution_count": 22,
   "metadata": {},
   "outputs": [],
   "source": [
    "def data_text_preprocess(all_text, ind, col):\n",
    "    # getting rid of all the integer values.\n",
    "    if type(all_text) is not int:\n",
    "        text = \"\"\n",
    "        #replacing all special characters with space\n",
    "        all_text = re.sub('[^a-zA-Z0-9\\n]',' ', str(all_text))\n",
    "        #replacing multiple spaces with a single one\n",
    "        all_text = re.sub('\\s+',' ',str(all_text))\n",
    "        #bring whole text to same lower-case scale.\n",
    "        all_text = all_text.lower()\n",
    "    \n",
    "        # retain only non-stop words from the transformed all_text\n",
    "        for word in all_text.split():\n",
    "            if not word in stop_words:\n",
    "                text += word + \" \"\n",
    "    \n",
    "        data_text[col][ind] = text   "
   ]
  },
  {
   "cell_type": "code",
   "execution_count": 23,
   "metadata": {},
   "outputs": [],
   "source": [
    "for index, row in data_text.iterrows():\n",
    "    if type(row['TEXT']) is str:\n",
    "        data_text_preprocess(row['TEXT'], index, 'TEXT')"
   ]
  },
  {
   "cell_type": "markdown",
   "metadata": {},
   "source": [
    "data_text_process cleaned the text and now it is ready to be vectorized. "
   ]
  },
  {
   "cell_type": "code",
   "execution_count": 24,
   "metadata": {},
   "outputs": [
    {
     "data": {
      "text/plain": [
       "'cyclin dependent kinases cdks regulate variety fundamental cellular processes cdk10 stands one last orphan cdks activating cyclin identified kinase activity revealed previous work shown cdk10 silencing increases ets2 v ets erythroblastosis virus e26 oncogene homolog 2 driven activation mapk pathway confers tamoxifen resistance breast cancer cells precise mechanisms cdk10 modulates ets2 activity generally functions cdk10 remain elusive demonstrate cdk10 cyclin dependent kinase identifying cyclin '"
      ]
     },
     "execution_count": 24,
     "metadata": {},
     "output_type": "execute_result"
    }
   ],
   "source": [
    "data_text.TEXT[0][0:500]"
   ]
  },
  {
   "cell_type": "markdown",
   "metadata": {},
   "source": [
    "**merge**"
   ]
  },
  {
   "cell_type": "code",
   "execution_count": 25,
   "metadata": {},
   "outputs": [],
   "source": [
    "df_merge = pd.merge(df_variants, data_text, on = 'ID', how= 'left')"
   ]
  },
  {
   "cell_type": "markdown",
   "metadata": {},
   "source": [
    "Just want to check if I have missing data here."
   ]
  },
  {
   "cell_type": "code",
   "execution_count": 26,
   "metadata": {},
   "outputs": [
    {
     "name": "stdout",
     "output_type": "stream",
     "text": [
      "<class 'pandas.core.frame.DataFrame'>\n",
      "Int64Index: 3321 entries, 0 to 3320\n",
      "Data columns (total 5 columns):\n",
      "ID           3321 non-null int64\n",
      "Gene         3321 non-null object\n",
      "Variation    3321 non-null object\n",
      "Class        3321 non-null int64\n",
      "TEXT         3316 non-null object\n",
      "dtypes: int64(2), object(3)\n",
      "memory usage: 155.7+ KB\n"
     ]
    }
   ],
   "source": [
    "df_merge.info()"
   ]
  },
  {
   "cell_type": "code",
   "execution_count": 27,
   "metadata": {},
   "outputs": [
    {
     "data": {
      "text/html": [
       "<div>\n",
       "<style scoped>\n",
       "    .dataframe tbody tr th:only-of-type {\n",
       "        vertical-align: middle;\n",
       "    }\n",
       "\n",
       "    .dataframe tbody tr th {\n",
       "        vertical-align: top;\n",
       "    }\n",
       "\n",
       "    .dataframe thead th {\n",
       "        text-align: right;\n",
       "    }\n",
       "</style>\n",
       "<table border=\"1\" class=\"dataframe\">\n",
       "  <thead>\n",
       "    <tr style=\"text-align: right;\">\n",
       "      <th></th>\n",
       "      <th>ID</th>\n",
       "      <th>Gene</th>\n",
       "      <th>Variation</th>\n",
       "      <th>Class</th>\n",
       "      <th>TEXT</th>\n",
       "    </tr>\n",
       "  </thead>\n",
       "  <tbody>\n",
       "    <tr>\n",
       "      <th>1109</th>\n",
       "      <td>1109</td>\n",
       "      <td>FANCA</td>\n",
       "      <td>S1088F</td>\n",
       "      <td>1</td>\n",
       "      <td>NaN</td>\n",
       "    </tr>\n",
       "    <tr>\n",
       "      <th>1277</th>\n",
       "      <td>1277</td>\n",
       "      <td>ARID5B</td>\n",
       "      <td>Truncating Mutations</td>\n",
       "      <td>1</td>\n",
       "      <td>NaN</td>\n",
       "    </tr>\n",
       "    <tr>\n",
       "      <th>1407</th>\n",
       "      <td>1407</td>\n",
       "      <td>FGFR3</td>\n",
       "      <td>K508M</td>\n",
       "      <td>6</td>\n",
       "      <td>NaN</td>\n",
       "    </tr>\n",
       "    <tr>\n",
       "      <th>1639</th>\n",
       "      <td>1639</td>\n",
       "      <td>FLT1</td>\n",
       "      <td>Amplification</td>\n",
       "      <td>6</td>\n",
       "      <td>NaN</td>\n",
       "    </tr>\n",
       "    <tr>\n",
       "      <th>2755</th>\n",
       "      <td>2755</td>\n",
       "      <td>BRAF</td>\n",
       "      <td>G596C</td>\n",
       "      <td>7</td>\n",
       "      <td>NaN</td>\n",
       "    </tr>\n",
       "  </tbody>\n",
       "</table>\n",
       "</div>"
      ],
      "text/plain": [
       "        ID    Gene             Variation  Class TEXT\n",
       "1109  1109   FANCA                S1088F      1  NaN\n",
       "1277  1277  ARID5B  Truncating Mutations      1  NaN\n",
       "1407  1407   FGFR3                 K508M      6  NaN\n",
       "1639  1639    FLT1         Amplification      6  NaN\n",
       "2755  2755    BRAF                 G596C      7  NaN"
      ]
     },
     "execution_count": 27,
     "metadata": {},
     "output_type": "execute_result"
    }
   ],
   "source": [
    "df_merge[df_merge.isnull().any(axis=1)]"
   ]
  },
  {
   "cell_type": "markdown",
   "metadata": {},
   "source": [
    "Looks like we do not have any missing values. In any case for future reference if we had missing TEXT data:\n",
    "\n",
    "- we could drop them( I do not recomend that because we have a imited number of data points)\n",
    "- we could replace them with what we have in the hand with an expectancy that, it is going to matter.\n",
    "\n",
    "We have variation and gene information.  As I already had a look at the text data, these variations and gene names are being mention quite a lot in the text data. So, instead of dropping the null texts, let me add something meaningful to that."
   ]
  },
  {
   "cell_type": "code",
   "execution_count": 28,
   "metadata": {},
   "outputs": [],
   "source": [
    "df_merge.loc[df_merge['TEXT'].isnull(),'TEXT'] = df_merge['Gene'] + \" \" + df_merge['Variation']"
   ]
  },
  {
   "cell_type": "markdown",
   "metadata": {},
   "source": [
    "Cross Check"
   ]
  },
  {
   "cell_type": "code",
   "execution_count": 29,
   "metadata": {},
   "outputs": [
    {
     "data": {
      "text/html": [
       "<div>\n",
       "<style scoped>\n",
       "    .dataframe tbody tr th:only-of-type {\n",
       "        vertical-align: middle;\n",
       "    }\n",
       "\n",
       "    .dataframe tbody tr th {\n",
       "        vertical-align: top;\n",
       "    }\n",
       "\n",
       "    .dataframe thead th {\n",
       "        text-align: right;\n",
       "    }\n",
       "</style>\n",
       "<table border=\"1\" class=\"dataframe\">\n",
       "  <thead>\n",
       "    <tr style=\"text-align: right;\">\n",
       "      <th></th>\n",
       "      <th>ID</th>\n",
       "      <th>Gene</th>\n",
       "      <th>Variation</th>\n",
       "      <th>Class</th>\n",
       "      <th>TEXT</th>\n",
       "    </tr>\n",
       "  </thead>\n",
       "  <tbody>\n",
       "  </tbody>\n",
       "</table>\n",
       "</div>"
      ],
      "text/plain": [
       "Empty DataFrame\n",
       "Columns: [ID, Gene, Variation, Class, TEXT]\n",
       "Index: []"
      ]
     },
     "execution_count": 29,
     "metadata": {},
     "output_type": "execute_result"
    }
   ],
   "source": [
    "df_merge[df_merge.isnull().any(axis=1)]  #looks pretty clean!"
   ]
  },
  {
   "cell_type": "markdown",
   "metadata": {},
   "source": [
    "A final touch the the Gene and Variation: We shall replace spaces with non-spaces or something like \"_\"."
   ]
  },
  {
   "cell_type": "code",
   "execution_count": 30,
   "metadata": {},
   "outputs": [],
   "source": [
    "df_merge['Gene']       =  df_merge['Gene'].str.replace('\\s+','_')\n",
    "df_merge['Variation']  =  df_merge['Variation'].str.replace('\\s+','_')"
   ]
  },
  {
   "cell_type": "code",
   "execution_count": 31,
   "metadata": {},
   "outputs": [
    {
     "data": {
      "text/plain": [
       "Truncating_Mutations    93\n",
       "Name: Variation, dtype: int64"
      ]
     },
     "execution_count": 31,
     "metadata": {},
     "output_type": "execute_result"
    }
   ],
   "source": [
    "df_merge['Variation'].value_counts().head(1)  #done"
   ]
  },
  {
   "cell_type": "code",
   "execution_count": 32,
   "metadata": {},
   "outputs": [],
   "source": [
    "df = df_merge"
   ]
  },
  {
   "cell_type": "markdown",
   "metadata": {},
   "source": [
    "## Training and Validation(test)\n",
    "\n",
    "I will hold out the test set and create/improve the model with training and cross validated data."
   ]
  },
  {
   "cell_type": "code",
   "execution_count": 33,
   "metadata": {},
   "outputs": [],
   "source": [
    "y = df['Class'].values"
   ]
  },
  {
   "cell_type": "code",
   "execution_count": 34,
   "metadata": {},
   "outputs": [],
   "source": [
    "df_in = df.drop('ID',axis=1)"
   ]
  },
  {
   "cell_type": "code",
   "execution_count": 35,
   "metadata": {},
   "outputs": [],
   "source": [
    "X_train,   test_df, y_train, y_test = train_test_split(df_in     , y,       stratify = y,       test_size = 0.2, random_state = 42)\n",
    "train_df, df_cv, y_train, y_cv =      train_test_split(X_train, y_train, stratify = y_train, test_size = 0.2, random_state = 95)"
   ]
  },
  {
   "cell_type": "markdown",
   "metadata": {},
   "source": [
    "Since we have limited number of data points it is critical to check the distribution of the data. We do not want distributional variations among train, validation and test sets. In other words, the data among different sets shall follow a smilar pattern."
   ]
  },
  {
   "cell_type": "markdown",
   "metadata": {},
   "source": [
    "Have a look"
   ]
  },
  {
   "cell_type": "code",
   "execution_count": 36,
   "metadata": {},
   "outputs": [
    {
     "name": "stdout",
     "output_type": "stream",
     "text": [
      "2124\n",
      "665\n",
      "532\n"
     ]
    }
   ],
   "source": [
    "print(train_df.shape[0])\n",
    "print(test_df.shape[0])\n",
    "print(df_cv.shape[0])"
   ]
  },
  {
   "cell_type": "markdown",
   "metadata": {},
   "source": [
    "Target Distributions between train and cv (test set is holdout!)"
   ]
  },
  {
   "cell_type": "code",
   "execution_count": 37,
   "metadata": {},
   "outputs": [],
   "source": [
    "def class_balance(df,target):\n",
    "    fun.seaborn_count_barplot(df,target)\n",
    "    \n",
    "    y_sort = np.argsort(- df.Class.value_counts().values)\n",
    "    for i in y_sort:\n",
    "        print(\"Number of data points in class\", i+1, \":\", df.Class.value_counts().values[i],\"(\",np.round((df.Class.value_counts().values[i]/df.shape[0]*100),1),'% )')"
   ]
  },
  {
   "cell_type": "code",
   "execution_count": 38,
   "metadata": {},
   "outputs": [
    {
     "name": "stdout",
     "output_type": "stream",
     "text": [
      "Number of data points in class 1 : 609 ( 28.7 % )\n",
      "Number of data points in class 2 : 439 ( 20.7 % )\n",
      "Number of data points in class 3 : 363 ( 17.1 % )\n",
      "Number of data points in class 4 : 289 ( 13.6 % )\n",
      "Number of data points in class 5 : 176 ( 8.3 % )\n",
      "Number of data points in class 6 : 155 ( 7.3 % )\n",
      "Number of data points in class 7 : 57 ( 2.7 % )\n",
      "Number of data points in class 8 : 24 ( 1.1 % )\n",
      "Number of data points in class 9 : 12 ( 0.6 % )\n"
     ]
    },
    {
     "data": {
      "image/png": "[encoded data removed]",
      "text/plain": [
       "<Figure size 432x288 with 1 Axes>"
      ]
     },
     "metadata": {
      "needs_background": "light"
     },
     "output_type": "display_data"
    }
   ],
   "source": [
    "class_balance(train_df,'Class')"
   ]
  },
  {
   "cell_type": "code",
   "execution_count": 39,
   "metadata": {},
   "outputs": [
    {
     "name": "stdout",
     "output_type": "stream",
     "text": [
      "Number of data points in class 1 : 191 ( 28.7 % )\n",
      "Number of data points in class 2 : 137 ( 20.6 % )\n",
      "Number of data points in class 3 : 114 ( 17.1 % )\n",
      "Number of data points in class 4 : 91 ( 13.7 % )\n",
      "Number of data points in class 5 : 55 ( 8.3 % )\n",
      "Number of data points in class 6 : 48 ( 7.2 % )\n",
      "Number of data points in class 7 : 18 ( 2.7 % )\n",
      "Number of data points in class 8 : 7 ( 1.1 % )\n",
      "Number of data points in class 9 : 4 ( 0.6 % )\n"
     ]
    },
    {
     "data": {
      "image/png": "[encoded data removed]",
      "text/plain": [
       "<Figure size 432x288 with 1 Axes>"
      ]
     },
     "metadata": {
      "needs_background": "light"
     },
     "output_type": "display_data"
    }
   ],
   "source": [
    "class_balance(test_df,'Class')"
   ]
  },
  {
   "cell_type": "code",
   "execution_count": 40,
   "metadata": {},
   "outputs": [
    {
     "name": "stdout",
     "output_type": "stream",
     "text": [
      "Number of data points in class 1 : 153 ( 28.8 % )\n",
      "Number of data points in class 2 : 110 ( 20.7 % )\n",
      "Number of data points in class 3 : 91 ( 17.1 % )\n",
      "Number of data points in class 4 : 72 ( 13.5 % )\n",
      "Number of data points in class 5 : 44 ( 8.3 % )\n",
      "Number of data points in class 6 : 39 ( 7.3 % )\n",
      "Number of data points in class 7 : 14 ( 2.6 % )\n",
      "Number of data points in class 8 : 6 ( 1.1 % )\n",
      "Number of data points in class 9 : 3 ( 0.6 % )\n"
     ]
    },
    {
     "data": {
      "image/png": "[encoded data removed]",
      "text/plain": [
       "<Figure size 432x288 with 1 Axes>"
      ]
     },
     "metadata": {
      "needs_background": "light"
     },
     "output_type": "display_data"
    }
   ],
   "source": [
    "class_balance(df_cv,'Class')"
   ]
  },
  {
   "cell_type": "markdown",
   "metadata": {},
   "source": [
    "The distributions of the target classes look smilar. Thereby we can proceed.\n",
    "\n",
    "However as mentioned number of classes are not balanced."
   ]
  },
  {
   "cell_type": "markdown",
   "metadata": {},
   "source": [
    "## MultiClass Baseline Model"
   ]
  },
  {
   "cell_type": "markdown",
   "metadata": {},
   "source": [
    "Lets build a baseline model with 9 target classes in order to compute the logloss which we will use as a benchmark for improvement."
   ]
  },
  {
   "cell_type": "code",
   "execution_count": 41,
   "metadata": {},
   "outputs": [],
   "source": [
    "test_data_len = test_df.shape[0]\n",
    "cv_data_len   = df_cv.shape[0]"
   ]
  },
  {
   "cell_type": "code",
   "execution_count": 42,
   "metadata": {},
   "outputs": [
    {
     "data": {
      "text/plain": [
       "532"
      ]
     },
     "execution_count": 42,
     "metadata": {},
     "output_type": "execute_result"
    }
   ],
   "source": [
    "cv_data_len"
   ]
  },
  {
   "cell_type": "markdown",
   "metadata": {},
   "source": [
    "Generate an output array with the size of cross validated data."
   ]
  },
  {
   "cell_type": "code",
   "execution_count": 43,
   "metadata": {},
   "outputs": [
    {
     "name": "stdout",
     "output_type": "stream",
     "text": [
      "Random model's Log loss on CV Data is 2.510114076628458\n"
     ]
    }
   ],
   "source": [
    "cv_predicted_y = np.zeros((cv_data_len,9)) # 9 for 9 classes\n",
    "\n",
    "for i in range(cv_data_len):\n",
    "    rand_probs = np.random.rand(1,9)   #randomly assigning numbers from 1 to 9 inclusive\n",
    "    cv_predicted_y[i] = ((rand_probs/sum(sum(rand_probs)))[0])\n",
    "print(\"Random model's Log loss on CV Data is\", log_loss(y_cv,cv_predicted_y, eps=1e-15))"
   ]
  },
  {
   "cell_type": "markdown",
   "metadata": {},
   "source": [
    "What does it mean? well that 2.51 is our baseline score. From this point, whatever model we create we want to have a smaller Log loss score than 2.51"
   ]
  },
  {
   "cell_type": "code",
   "execution_count": 44,
   "metadata": {},
   "outputs": [
    {
     "name": "stdout",
     "output_type": "stream",
     "text": [
      "Random model's Log loss on Test Data is 2.503773775552918\n"
     ]
    }
   ],
   "source": [
    "test_predicted_y = np.zeros((test_data_len,9)) # 9 for 9 classes\n",
    "\n",
    "for i in range(test_data_len):\n",
    "    rand_probs = np.random.rand(1,9)   #randomly assigning numbers from 1 to 9 inclusive\n",
    "    test_predicted_y[i] = ((rand_probs/sum(sum(rand_probs)))[0])\n",
    "print(\"Random model's Log loss on Test Data is\", log_loss(y_test,test_predicted_y, eps=1e-15))"
   ]
  },
  {
   "cell_type": "markdown",
   "metadata": {},
   "source": [
    "The index for max probability.\n",
    "\n",
    "In other words the predictions which return the highest probability."
   ]
  },
  {
   "cell_type": "code",
   "execution_count": 45,
   "metadata": {},
   "outputs": [
    {
     "data": {
      "text/plain": [
       "array([0, 5, 8, 1, 5, 4, 4, 5, 4, 1, 2, 4, 6, 0, 0, 3, 2, 8, 5, 6])"
      ]
     },
     "execution_count": 45,
     "metadata": {},
     "output_type": "execute_result"
    }
   ],
   "source": [
    "predicted_y = np.argmax(test_predicted_y, axis=1)\n",
    "predicted_y[0:20]"
   ]
  },
  {
   "cell_type": "code",
   "execution_count": 46,
   "metadata": {},
   "outputs": [
    {
     "name": "stdout",
     "output_type": "stream",
     "text": [
      "0\n",
      "8\n"
     ]
    }
   ],
   "source": [
    "print(predicted_y.min())\n",
    "print(predicted_y.max())"
   ]
  },
  {
   "cell_type": "markdown",
   "metadata": {},
   "source": [
    "Reminder, the numbers stands for the predictions from 1 to 9 however their range is different. Lets change that."
   ]
  },
  {
   "cell_type": "code",
   "execution_count": 47,
   "metadata": {},
   "outputs": [],
   "source": [
    "predicted_y = predicted_y + 1"
   ]
  },
  {
   "cell_type": "markdown",
   "metadata": {},
   "source": [
    "## Scoring on Baseline Model"
   ]
  },
  {
   "cell_type": "code",
   "execution_count": 48,
   "metadata": {},
   "outputs": [],
   "source": [
    "from sklearn.metrics import confusion_matrix\n",
    "from sklearn.metrics import classification_report"
   ]
  },
  {
   "cell_type": "markdown",
   "metadata": {},
   "source": [
    "**confusion matrix:** https://www.youtube.com/watch?v=Kdsp6soqA7o"
   ]
  },
  {
   "cell_type": "code",
   "execution_count": 49,
   "metadata": {},
   "outputs": [],
   "source": [
    "C = confusion_matrix(y_test,predicted_y)"
   ]
  },
  {
   "cell_type": "markdown",
   "metadata": {},
   "source": [
    "The target is made of 9 classes. So the shape of confusion matrix shall be 9*9"
   ]
  },
  {
   "cell_type": "code",
   "execution_count": 50,
   "metadata": {},
   "outputs": [
    {
     "data": {
      "text/plain": [
       "(9, 9)"
      ]
     },
     "execution_count": 50,
     "metadata": {},
     "output_type": "execute_result"
    }
   ],
   "source": [
    "C.shape"
   ]
  },
  {
   "cell_type": "code",
   "execution_count": 51,
   "metadata": {},
   "outputs": [
    {
     "data": {
      "text/plain": [
       "array([[18,  9, 11, 14, 20, 14, 11, 12,  5],\n",
       "       [12, 10,  6, 10,  7, 12, 16, 11,  7],\n",
       "       [ 3,  2,  2,  0,  3,  3,  3,  2,  0],\n",
       "       [11, 24, 19, 15, 11, 14, 13, 17, 13],\n",
       "       [ 4,  4,  8,  2,  8,  6,  5,  5,  6],\n",
       "       [ 8,  6,  7,  8,  6,  4,  8,  2,  6],\n",
       "       [22, 20, 28, 33, 21, 18, 16, 10, 23],\n",
       "       [ 0,  0,  1,  1,  1,  0,  0,  1,  0],\n",
       "       [ 1,  3,  0,  0,  1,  1,  0,  0,  1]])"
      ]
     },
     "execution_count": 51,
     "metadata": {},
     "output_type": "execute_result"
    }
   ],
   "source": [
    "C"
   ]
  },
  {
   "cell_type": "markdown",
   "metadata": {},
   "source": [
    "Heatmap Confusion Matrix"
   ]
  },
  {
   "cell_type": "code",
   "execution_count": 52,
   "metadata": {},
   "outputs": [
    {
     "data": {
      "image/png": "[encoded data removed]",
      "text/plain": [
       "<Figure size 1440x504 with 2 Axes>"
      ]
     },
     "metadata": {
      "needs_background": "light"
     },
     "output_type": "display_data"
    }
   ],
   "source": [
    "labels = list(np.linspace(1, 9, num=9, dtype = int))\n",
    "plt.figure(figsize =(20,7))\n",
    "sns.heatmap(C, annot = True, cmap = \"YlGnBu\",fmt=\".3f\",xticklabels=labels,yticklabels=labels)\n",
    "plt.xlabel('Predicted Class')\n",
    "plt.ylabel('Actual Class')\n",
    "plt.show()"
   ]
  },
  {
   "cell_type": "markdown",
   "metadata": {},
   "source": [
    "How to interpret that? \n",
    "\n",
    "Lets focus on the first column, predicted class :1\n",
    "\n",
    "Looks like classess 3-5-6-8-9 are really distinct from class 1 due to the fact that number of times the model predicted those classes as class 1 is relatively low.\n",
    "\n",
    "Whereas the model predicted classes 7-4 and 2 to be class 1, which are all errors compared to low number of TP results for 1."
   ]
  },
  {
   "cell_type": "markdown",
   "metadata": {},
   "source": [
    "## Precision Matrix"
   ]
  },
  {
   "cell_type": "code",
   "execution_count": 53,
   "metadata": {},
   "outputs": [],
   "source": [
    "precision = (C/ C.sum(axis=0))"
   ]
  },
  {
   "cell_type": "code",
   "execution_count": 54,
   "metadata": {},
   "outputs": [
    {
     "data": {
      "image/png": "[encoded data removed]",
      "text/plain": [
       "<Figure size 1440x504 with 2 Axes>"
      ]
     },
     "metadata": {
      "needs_background": "light"
     },
     "output_type": "display_data"
    }
   ],
   "source": [
    "labels = list(np.linspace(1, 9, num=9, dtype = int))\n",
    "plt.figure(figsize =(20,7))\n",
    "sns.heatmap(precision, annot = True, cmap = \"YlGnBu\",fmt=\".3f\",xticklabels=labels,yticklabels=labels)\n",
    "plt.xlabel('Predicted Class')\n",
    "plt.ylabel('Actual Class')\n",
    "plt.show()"
   ]
  },
  {
   "cell_type": "markdown",
   "metadata": {},
   "source": [
    "predicted and actual 1: of all the classes that predicted to be class 1, 23% were accurate.\n",
    "\n",
    "Well this is usefull for visulization however there is a better way to interpret the model."
   ]
  },
  {
   "cell_type": "markdown",
   "metadata": {},
   "source": [
    "**Classification Report**"
   ]
  },
  {
   "cell_type": "code",
   "execution_count": 55,
   "metadata": {},
   "outputs": [],
   "source": [
    "CR = classification_report(y_test,predicted_y)"
   ]
  },
  {
   "cell_type": "code",
   "execution_count": 56,
   "metadata": {},
   "outputs": [
    {
     "name": "stdout",
     "output_type": "stream",
     "text": [
      "              precision    recall  f1-score   support\n",
      "\n",
      "           1       0.23      0.16      0.19       114\n",
      "           2       0.13      0.11      0.12        91\n",
      "           3       0.02      0.11      0.04        18\n",
      "           4       0.18      0.11      0.14       137\n",
      "           5       0.10      0.17      0.13        48\n",
      "           6       0.06      0.07      0.06        55\n",
      "           7       0.22      0.08      0.12       191\n",
      "           8       0.02      0.25      0.03         4\n",
      "           9       0.02      0.14      0.03         7\n",
      "\n",
      "   micro avg       0.11      0.11      0.11       665\n",
      "   macro avg       0.11      0.13      0.09       665\n",
      "weighted avg       0.17      0.11      0.13       665\n",
      "\n"
     ]
    }
   ],
   "source": [
    "print(CR)"
   ]
  },
  {
   "cell_type": "markdown",
   "metadata": {},
   "source": [
    "f1-score is a scoring parameter that considers both precision and recall with respect to their weights. \n",
    "\n",
    "It can be seen that the baseline model returns baseline results. The model performed badly from point of view of all classes."
   ]
  },
  {
   "cell_type": "markdown",
   "metadata": {},
   "source": [
    "### Feature : Gene\n",
    "\n",
    "Lets have a look at the relevance of the independent features compares to the dependent target.\n",
    "\n",
    "EDA"
   ]
  },
  {
   "cell_type": "code",
   "execution_count": 57,
   "metadata": {},
   "outputs": [
    {
     "name": "stdout",
     "output_type": "stream",
     "text": [
      "Number of Unique Genes are  228\n",
      "\n",
      "Top 10 frequently found genes\n",
      "BRCA1     158\n",
      "TP53      102\n",
      "EGFR       94\n",
      "BRCA2      80\n",
      "PTEN       80\n",
      "KIT        64\n",
      "BRAF       55\n",
      "ALK        44\n",
      "ERBB2      43\n",
      "PDGFRA     42\n",
      "Name: Gene, dtype: int64\n"
     ]
    }
   ],
   "source": [
    "unique_genes = train_df['Gene'].value_counts()\n",
    "print('Number of Unique Genes are ', unique_genes.shape[0])\n",
    "print('\\nTop 10 frequently found genes')\n",
    "print(unique_genes.head(10))"
   ]
  },
  {
   "cell_type": "markdown",
   "metadata": {},
   "source": [
    "Cummulative Distribution"
   ]
  },
  {
   "cell_type": "code",
   "execution_count": 58,
   "metadata": {},
   "outputs": [
    {
     "data": {
      "image/png": "[encoded data removed]",
      "text/plain": [
       "<Figure size 432x288 with 1 Axes>"
      ]
     },
     "metadata": {
      "needs_background": "light"
     },
     "output_type": "display_data"
    }
   ],
   "source": [
    "s = sum(unique_genes.values)\n",
    "h = unique_genes.values / s\n",
    "c = np.cumsum(h)\n",
    "plt.plot(c,label = 'Cummulative Distribution of Cancer Genes')\n",
    "plt.grid()\n",
    "plt.legend()\n",
    "plt.show()"
   ]
  },
  {
   "cell_type": "markdown",
   "metadata": {},
   "source": [
    "- Looking at the most frequently found top 50 values, they account for almost 75% of the complete data.\n",
    "- These values may be prone to overfit or the less significant genes may be prone to underfit."
   ]
  },
  {
   "cell_type": "markdown",
   "metadata": {},
   "source": [
    "**Data Transformation**\n",
    "\n",
    "Vecrorize the genes so the machine learning model can learn from them.\n",
    "\n",
    "options\n",
    "- One Hot Encoding\n",
    "\n",
    "May cause dimentionality issues especially when data is scarce and number of unique categorical features are high.\n",
    "\n",
    "\n",
    "- Response Encoding\n",
    "\n",
    "Imputes mean in accordance to the target.\n",
    "\n",
    "Instead of creating dummy features which can be very high in numbers when the number of categorical variables are high. It creates dummy features which are equavelent to number of categorical classes of the target.\n",
    "\n",
    "In our case this will lead to generation of 9 dummy variables instead of 228 variables which helps to control dimentionality issues.\n",
    "\n",
    "\n",
    "\n",
    "Use both and compare."
   ]
  },
  {
   "cell_type": "code",
   "execution_count": 59,
   "metadata": {},
   "outputs": [],
   "source": [
    "from sklearn.feature_extraction.text import CountVectorizer"
   ]
  },
  {
   "cell_type": "code",
   "execution_count": 60,
   "metadata": {},
   "outputs": [],
   "source": [
    "#one hot encoding\n",
    "gene_vectorizer = CountVectorizer()\n",
    "train_gene_feature_onehotCoding = gene_vectorizer.fit_transform(train_df['Gene'])\n",
    "test_gene_feature_onehotCoding = gene_vectorizer.transform(test_df['Gene'])\n",
    "cv_gene_feature_onehotCoding = gene_vectorizer.transform(df_cv['Gene'])\n"
   ]
  },
  {
   "cell_type": "code",
   "execution_count": 61,
   "metadata": {},
   "outputs": [
    {
     "data": {
      "text/plain": [
       "228"
      ]
     },
     "execution_count": 61,
     "metadata": {},
     "output_type": "execute_result"
    }
   ],
   "source": [
    "len(train_df.Gene.unique())"
   ]
  },
  {
   "cell_type": "code",
   "execution_count": 62,
   "metadata": {},
   "outputs": [],
   "source": [
    "# train_gene_ferature_onehotCoding.shape[1]  # a lot of dummy variables"
   ]
  },
  {
   "cell_type": "code",
   "execution_count": 63,
   "metadata": {},
   "outputs": [
    {
     "data": {
      "text/plain": [
       "['abl1', 'acvr1', 'ago2', 'akt1', 'akt2', 'akt3', 'alk', 'apc', 'ar', 'araf']"
      ]
     },
     "execution_count": 63,
     "metadata": {},
     "output_type": "execute_result"
    }
   ],
   "source": [
    "gene_vectorizer.get_feature_names()[0:10]"
   ]
  },
  {
   "cell_type": "markdown",
   "metadata": {},
   "source": [
    "**response_encoding**"
   ]
  },
  {
   "cell_type": "code",
   "execution_count": 64,
   "metadata": {},
   "outputs": [],
   "source": [
    "def get_gv_fea_dict(alpha,feature,df):\n",
    "    \n",
    "    value_count = train_df[feature].value_counts()\n",
    "    \n",
    "    gv_dict = {}\n",
    "    \n",
    "    for i, denominator in value_count.items():\n",
    "        \n",
    "        vec = []\n",
    "        for k in range(1,10):\n",
    "            \n",
    "            cls_cnt = train_df.loc[(train_df['Class'] == k) & (train_df[feature]==i)]\n",
    "            vec.append((cls_cnt.shape[0]+alpha*10)/ denominator + 90 * alpha)\n",
    "        gv_dict[i] = vec\n",
    "    return gv_dict\n",
    "            "
   ]
  },
  {
   "cell_type": "code",
   "execution_count": 65,
   "metadata": {},
   "outputs": [],
   "source": [
    "def get_gv_feature(alpha, feature, df):\n",
    "    gv_dict = get_gv_fea_dict(alpha,feature,df)\n",
    "    value_count = train_df[feature].value_counts()\n",
    "    \n",
    "    gv_fea = []\n",
    "    \n",
    "    for index,row in df.iterrows():\n",
    "        if row[feature] in dict(value_count).keys():\n",
    "            gv_fea.append(gv_dict[row[feature]])\n",
    "        else:\n",
    "            gv_fea.append([1/9,1/9,1/9,1/9,1/9,1/9,1/9,1/9,1/9])\n",
    "    return gv_fea\n",
    "        "
   ]
  },
  {
   "cell_type": "code",
   "execution_count": 66,
   "metadata": {},
   "outputs": [],
   "source": [
    "#response-encoding of the Gene Feature\n",
    "# alpha is used for laplace smoothing\n",
    "alpha = 1\n",
    "#train gene feature\n",
    "train_gene_feature_responseCoding = np.array(get_gv_feature(alpha,'Gene',train_df))\n",
    "#test gene feature\n",
    "test_gene_feature_responseCoding = np.array(get_gv_feature(alpha,'Gene',test_df))\n",
    "#cross validation gene feature\n",
    "cv_gene_feature_responseCoding = np.array(get_gv_feature(alpha,\"Gene\",df_cv))"
   ]
  },
  {
   "cell_type": "markdown",
   "metadata": {},
   "source": [
    "Lets look at the new form of the columns\n",
    "\n",
    "The result shall include 9 columns as dummy variables for Gene column."
   ]
  },
  {
   "cell_type": "code",
   "execution_count": 67,
   "metadata": {},
   "outputs": [
    {
     "data": {
      "text/plain": [
       "(2124, 9)"
      ]
     },
     "execution_count": 67,
     "metadata": {},
     "output_type": "execute_result"
    }
   ],
   "source": [
    "train_gene_feature_responseCoding.shape"
   ]
  },
  {
   "cell_type": "code",
   "execution_count": 68,
   "metadata": {},
   "outputs": [
    {
     "data": {
      "text/plain": [
       "(665, 9)"
      ]
     },
     "execution_count": 68,
     "metadata": {},
     "output_type": "execute_result"
    }
   ],
   "source": [
    "test_gene_feature_responseCoding.shape"
   ]
  },
  {
   "cell_type": "code",
   "execution_count": 69,
   "metadata": {},
   "outputs": [
    {
     "data": {
      "text/plain": [
       "array([91.375, 91.375, 91.25 , 92.   , 91.25 , 91.25 , 91.25 , 91.25 ,\n",
       "       91.25 ])"
      ]
     },
     "execution_count": 69,
     "metadata": {},
     "output_type": "execute_result"
    }
   ],
   "source": [
    "train_gene_feature_responseCoding[0]"
   ]
  },
  {
   "cell_type": "markdown",
   "metadata": {},
   "source": [
    "How to check the value add of the response encoding results?\n",
    "\n",
    "\n",
    "Let's compare the logloss of the model in newly generated dummy variables with the baseline score.\n",
    "\n",
    "In case logloss of model that is trained with a single feature is lesser than the baseline score, that means response encoding did a good job.\n",
    "\n",
    "\n",
    "Setting up hyper parameters for SGD classifier.\n",
    "\n",
    "https://scikit-learn.org/stable/modules/generated/sklearn.linear_model.SGDClassifier.html"
   ]
  },
  {
   "cell_type": "code",
   "execution_count": 70,
   "metadata": {},
   "outputs": [],
   "source": [
    "alpha = [10 ** x for x in range(-5,1)]"
   ]
  },
  {
   "cell_type": "markdown",
   "metadata": {},
   "source": [
    "Calibrated classifier so that the model will return the results in terms of probability."
   ]
  },
  {
   "cell_type": "code",
   "execution_count": 71,
   "metadata": {},
   "outputs": [],
   "source": [
    "from sklearn.linear_model import SGDClassifier\n",
    "from sklearn.calibration import CalibratedClassifierCV"
   ]
  },
  {
   "cell_type": "code",
   "execution_count": 72,
   "metadata": {},
   "outputs": [
    {
     "name": "stdout",
     "output_type": "stream",
     "text": [
      "For values of alpha =  1e-05 The log loss is: 1.392997119735486\n",
      "For values of alpha =  0.0001 The log loss is: 1.2310356047100817\n",
      "For values of alpha =  0.001 The log loss is: 1.2559745413330443\n",
      "For values of alpha =  0.01 The log loss is: 1.3703214120380807\n",
      "For values of alpha =  0.1 The log loss is: 1.442410040621252\n",
      "For values of alpha =  1 The log loss is: 1.4701681796644472\n"
     ]
    }
   ],
   "source": [
    "cv_log_error_array = []\n",
    "\n",
    "for i in alpha:\n",
    "    clf = SGDClassifier(alpha =i,penalty='l2',loss = 'log',random_state=42)\n",
    "    clf.fit(train_gene_feature_onehotCoding, y_train)\n",
    "    sig_clf = CalibratedClassifierCV(clf,method = 'sigmoid')\n",
    "    sig_clf.fit(train_gene_feature_onehotCoding,y_train)\n",
    "    predict_y = sig_clf.predict_proba(cv_gene_feature_onehotCoding)\n",
    "    cv_log_error_array.append(log_loss(y_cv,predict_y,labels = clf.classes_,eps=1e-15))\n",
    "    print('For values of alpha = ',i, 'The log loss is:',log_loss(y_cv,predict_y,labels=clf.classes_,eps=1e-15))\n",
    "    "
   ]
  },
  {
   "cell_type": "markdown",
   "metadata": {},
   "source": [
    "Plot it and have a look."
   ]
  },
  {
   "cell_type": "code",
   "execution_count": 73,
   "metadata": {},
   "outputs": [
    {
     "data": {
      "image/png": "[encoded data removed]",
      "text/plain": [
       "<Figure size 432x288 with 1 Axes>"
      ]
     },
     "metadata": {
      "needs_background": "light"
     },
     "output_type": "display_data"
    }
   ],
   "source": [
    "fig, ax = plt.subplots()\n",
    "ax.plot(alpha,cv_log_error_array,c = 'g')\n",
    "for i, txt in enumerate(np.round(cv_log_error_array,3)):\n",
    "    ax.annotate((alpha[i],np.round(txt,3)), (alpha[i],cv_log_error_array[i]))\n",
    "plt.grid()\n",
    "plt.title('Cross Validation Error for each alpha value')\n",
    "plt.xlabel(\"Alpha i's\")\n",
    "plt.ylabel('Error Measure')\n",
    "plt.show()"
   ]
  },
  {
   "cell_type": "markdown",
   "metadata": {},
   "source": [
    "Certainly the best alpha value is the one which returns the smallest error(argmin to get it out)\n",
    "\n",
    "And get the log loss."
   ]
  },
  {
   "cell_type": "code",
   "execution_count": 74,
   "metadata": {},
   "outputs": [
    {
     "name": "stdout",
     "output_type": "stream",
     "text": [
      "For values of best alpha =  0.0001 The TRAIN log loss is: 1.0155149253123341\n",
      "For values of best alpha =  0.0001 The VALIDATION(CV) log loss is: 1.2310356047100817\n",
      "For values of best alpha =  0.0001 The TEST log loss is: 1.268972427427352\n"
     ]
    }
   ],
   "source": [
    "best_alpha = np.argmin(cv_log_error_array)\n",
    "clf = SGDClassifier(alpha = alpha[best_alpha], penalty='l2',loss='log',random_state=42)\n",
    "clf.fit(train_gene_feature_onehotCoding, y_train)\n",
    "sig_clf = CalibratedClassifierCV(clf,method='sigmoid')\n",
    "sig_clf.fit(train_gene_feature_onehotCoding,y_train)\n",
    "\n",
    "predict_y = sig_clf.predict_proba(train_gene_feature_onehotCoding)\n",
    "print('For values of best alpha = ', alpha[best_alpha],'The TRAIN log loss is:',log_loss(y_train,predict_y,labels=clf.classes_,eps=1e-15))\n",
    "predict_y = sig_clf.predict_proba(cv_gene_feature_onehotCoding)\n",
    "print('For values of best alpha = ', alpha[best_alpha],'The VALIDATION(CV) log loss is:',log_loss(y_cv,predict_y,labels=clf.classes_,eps=1e-15))\n",
    "predict_y = sig_clf.predict_proba(test_gene_feature_onehotCoding)\n",
    "print('For values of best alpha = ', alpha[best_alpha],'The TEST log loss is:',log_loss(y_test,predict_y,labels=clf.classes_,eps=1e-15))\n",
    "\n"
   ]
  },
  {
   "cell_type": "markdown",
   "metadata": {},
   "source": [
    "Now lets check how many values are overlapping among train, cv and test."
   ]
  },
  {
   "cell_type": "code",
   "execution_count": 75,
   "metadata": {},
   "outputs": [],
   "source": [
    "test_coverage = test_df[test_df['Gene'].isin(list(set(train_df['Gene'])))].shape[0]\n",
    "cv_coverage = df_cv[df_cv['Gene'].isin(list(set(train_df['Gene'])))].shape[0]"
   ]
  },
  {
   "cell_type": "code",
   "execution_count": 76,
   "metadata": {},
   "outputs": [
    {
     "name": "stdout",
     "output_type": "stream",
     "text": [
      "1. In test data 640 out of 665 : 96.2406015037594\n",
      "2. In cross validation data 511 out of 532 : 96.05263157894737\n"
     ]
    }
   ],
   "source": [
    "print('1. In test data', test_coverage, 'out of',test_df.shape[0],':',(test_coverage/test_df.shape[0])*100)\n",
    "print('2. In cross validation data', cv_coverage, 'out of',df_cv.shape[0],':',(cv_coverage/df_cv.shape[0])*100)"
   ]
  },
  {
   "cell_type": "markdown",
   "metadata": {},
   "source": [
    "# FEATURE: VARIATION (evaluate)"
   ]
  },
  {
   "cell_type": "markdown",
   "metadata": {},
   "source": [
    "Variation is also a categorical variable so we have to deal in same way like we have done for **Gene** feature. We will again get the one hot encoder and response encoding variable for variation feature."
   ]
  },
  {
   "cell_type": "code",
   "execution_count": 77,
   "metadata": {},
   "outputs": [
    {
     "name": "stdout",
     "output_type": "stream",
     "text": [
      "Number of Unique Variations : 1927\n",
      "Truncating_Mutations    58\n",
      "Amplification           51\n",
      "Deletion                48\n",
      "Fusions                 19\n",
      "Q61R                     3\n",
      "G12V                     3\n",
      "E330K                    2\n",
      "P130S                    2\n",
      "G13D                     2\n",
      "Overexpression           2\n",
      "Name: Variation, dtype: int64\n"
     ]
    }
   ],
   "source": [
    "unique_variations = train_df['Variation'].value_counts()\n",
    "print('Number of Unique Variations :', unique_variations.shape[0])\n",
    "# top 10\n",
    "print(unique_variations.head(10))"
   ]
  },
  {
   "cell_type": "markdown",
   "metadata": {},
   "source": [
    "Cumulative distribution of unique variation values:"
   ]
  },
  {
   "cell_type": "code",
   "execution_count": 78,
   "metadata": {},
   "outputs": [
    {
     "name": "stdout",
     "output_type": "stream",
     "text": [
      "[0.02730697 0.05131827 0.07391714 ... 0.99905838 0.99952919 1.        ]\n"
     ]
    },
    {
     "data": {
      "image/png": "[encoded data removed]",
      "text/plain": [
       "<Figure size 432x288 with 1 Axes>"
      ]
     },
     "metadata": {
      "needs_background": "light"
     },
     "output_type": "display_data"
    }
   ],
   "source": [
    "s = sum(unique_variations.values)\n",
    "h = unique_variations.values / s\n",
    "c = np.cumsum(h)\n",
    "print(c)\n",
    "plt.plot(c,label='Cumulative Distribution of Variations')\n",
    "plt.grid()\n",
    "plt.legend()\n",
    "plt.show()"
   ]
  },
  {
   "cell_type": "markdown",
   "metadata": {},
   "source": [
    "Transform the Variationsusing one hot encoder."
   ]
  },
  {
   "cell_type": "code",
   "execution_count": 79,
   "metadata": {},
   "outputs": [],
   "source": [
    "#one hot encoding\n",
    "variation_vectorizer = CountVectorizer()\n",
    "train_variation_feature_onehotCoding = variation_vectorizer.fit_transform(train_df['Variation'])\n",
    "test_variation_feature_onehotCoding = variation_vectorizer.transform(test_df['Variation'])\n",
    "cv_variation_feature_onehotCoding = variation_vectorizer.transform(df_cv['Variation'])\n"
   ]
  },
  {
   "cell_type": "code",
   "execution_count": 80,
   "metadata": {},
   "outputs": [
    {
     "data": {
      "text/plain": [
       "(2124, 1961)"
      ]
     },
     "execution_count": 80,
     "metadata": {},
     "output_type": "execute_result"
    }
   ],
   "source": [
    "train_variation_feature_onehotCoding.shape"
   ]
  },
  {
   "cell_type": "markdown",
   "metadata": {},
   "source": [
    "Response encoding on feature variation."
   ]
  },
  {
   "cell_type": "code",
   "execution_count": 81,
   "metadata": {},
   "outputs": [],
   "source": [
    "#response-encoding of the Gene Feature\n",
    "# alpha is used for laplace smoothing\n",
    "alpha = 1\n",
    "#train gene feature\n",
    "train_variation_feature_responseCoding = np.array(get_gv_feature(alpha,'Variation',train_df))\n",
    "#test gene feature\n",
    "test_variation_feature_responseCoding =  np.array(get_gv_feature(alpha,'Variation',test_df))\n",
    "#cross validation gene feature\n",
    "cv_variation_feature_responseCoding =    np.array(get_gv_feature(alpha,'Variation',df_cv))"
   ]
  },
  {
   "cell_type": "markdown",
   "metadata": {},
   "source": [
    "**train**"
   ]
  },
  {
   "cell_type": "code",
   "execution_count": 82,
   "metadata": {},
   "outputs": [
    {
     "data": {
      "text/plain": [
       "(2124, 9)"
      ]
     },
     "execution_count": 82,
     "metadata": {},
     "output_type": "execute_result"
    }
   ],
   "source": [
    "train_variation_feature_responseCoding.shape"
   ]
  },
  {
   "cell_type": "code",
   "execution_count": 83,
   "metadata": {},
   "outputs": [
    {
     "name": "stdout",
     "output_type": "stream",
     "text": [
      "<class 'pandas.core.frame.DataFrame'>\n",
      "Int64Index: 2124 entries, 1635 to 1107\n",
      "Data columns (total 4 columns):\n",
      "Gene         2124 non-null object\n",
      "Variation    2124 non-null object\n",
      "Class        2124 non-null int64\n",
      "TEXT         2124 non-null object\n",
      "dtypes: int64(1), object(3)\n",
      "memory usage: 83.0+ KB\n"
     ]
    }
   ],
   "source": [
    "train_df.info()"
   ]
  },
  {
   "cell_type": "code",
   "execution_count": 84,
   "metadata": {},
   "outputs": [
    {
     "data": {
      "text/plain": [
       "Index(['Gene', 'Variation', 'Class', 'TEXT'], dtype='object')"
      ]
     },
     "execution_count": 84,
     "metadata": {},
     "output_type": "execute_result"
    }
   ],
   "source": [
    "train_df.columns"
   ]
  },
  {
   "cell_type": "markdown",
   "metadata": {},
   "source": [
    "**test**"
   ]
  },
  {
   "cell_type": "code",
   "execution_count": 85,
   "metadata": {},
   "outputs": [
    {
     "data": {
      "text/plain": [
       "(665, 9)"
      ]
     },
     "execution_count": 85,
     "metadata": {},
     "output_type": "execute_result"
    }
   ],
   "source": [
    "test_variation_feature_responseCoding.shape"
   ]
  },
  {
   "cell_type": "code",
   "execution_count": 86,
   "metadata": {},
   "outputs": [
    {
     "data": {
      "text/plain": [
       "(665, 4)"
      ]
     },
     "execution_count": 86,
     "metadata": {},
     "output_type": "execute_result"
    }
   ],
   "source": [
    "test_df.shape"
   ]
  },
  {
   "cell_type": "code",
   "execution_count": 87,
   "metadata": {},
   "outputs": [
    {
     "data": {
      "text/plain": [
       "Index(['Gene', 'Variation', 'Class', 'TEXT'], dtype='object')"
      ]
     },
     "execution_count": 87,
     "metadata": {},
     "output_type": "execute_result"
    }
   ],
   "source": [
    "test_df.columns"
   ]
  },
  {
   "cell_type": "markdown",
   "metadata": {},
   "source": [
    "**cv**"
   ]
  },
  {
   "cell_type": "code",
   "execution_count": 88,
   "metadata": {},
   "outputs": [
    {
     "data": {
      "text/plain": [
       "(532, 9)"
      ]
     },
     "execution_count": 88,
     "metadata": {},
     "output_type": "execute_result"
    }
   ],
   "source": [
    "cv_variation_feature_responseCoding.shape"
   ]
  },
  {
   "cell_type": "code",
   "execution_count": 89,
   "metadata": {},
   "outputs": [
    {
     "data": {
      "text/plain": [
       "(532, 4)"
      ]
     },
     "execution_count": 89,
     "metadata": {},
     "output_type": "execute_result"
    }
   ],
   "source": [
    "df_cv.shape"
   ]
  },
  {
   "cell_type": "code",
   "execution_count": null,
   "metadata": {},
   "outputs": [],
   "source": []
  },
  {
   "cell_type": "code",
   "execution_count": null,
   "metadata": {},
   "outputs": [],
   "source": []
  },
  {
   "cell_type": "code",
   "execution_count": 90,
   "metadata": {},
   "outputs": [
    {
     "data": {
      "text/plain": [
       "(2124, 9)"
      ]
     },
     "execution_count": 90,
     "metadata": {},
     "output_type": "execute_result"
    }
   ],
   "source": [
    "train_variation_feature_responseCoding.shape"
   ]
  },
  {
   "cell_type": "markdown",
   "metadata": {},
   "source": [
    "The model trained with only variation."
   ]
  },
  {
   "cell_type": "code",
   "execution_count": 91,
   "metadata": {},
   "outputs": [
    {
     "name": "stdout",
     "output_type": "stream",
     "text": [
      "For values of alpha =  1e-05 The log loss is: 1.6882497582014921\n",
      "For values of alpha =  0.0001 The log loss is: 1.6826103958518324\n",
      "For values of alpha =  0.001 The log loss is: 1.6804435166599303\n",
      "For values of alpha =  0.01 The log loss is: 1.686613198314666\n",
      "For values of alpha =  0.1 The log loss is: 1.6871887125184886\n",
      "For values of alpha =  1 The log loss is: 1.6898985159531996\n"
     ]
    }
   ],
   "source": [
    "from sklearn.linear_model import SGDClassifier\n",
    "from sklearn.calibration import CalibratedClassifierCV\n",
    "\n",
    "alpha = [10 ** x for x in range(-5,1)]\n",
    "\n",
    "cv_log_error_array = []\n",
    "\n",
    "for i in alpha:\n",
    "    clf = SGDClassifier(alpha =i,penalty='l2',loss = 'log',random_state=42)\n",
    "    clf.fit(train_variation_feature_onehotCoding, y_train)\n",
    "    sig_clf = CalibratedClassifierCV(clf,method = 'sigmoid')\n",
    "    sig_clf.fit(train_variation_feature_onehotCoding,y_train)\n",
    "    predict_y = sig_clf.predict_proba(cv_variation_feature_onehotCoding)\n",
    "    cv_log_error_array.append(log_loss(y_cv,predict_y,labels = clf.classes_,eps=1e-15))\n",
    "    print('For values of alpha = ',i, 'The log loss is:',log_loss(y_cv,predict_y,labels=clf.classes_,eps=1e-15))\n",
    "    "
   ]
  },
  {
   "cell_type": "code",
   "execution_count": 92,
   "metadata": {},
   "outputs": [
    {
     "data": {
      "image/png": "[encoded data removed]",
      "text/plain": [
       "<Figure size 432x288 with 1 Axes>"
      ]
     },
     "metadata": {
      "needs_background": "light"
     },
     "output_type": "display_data"
    }
   ],
   "source": [
    "fig, ax = plt.subplots()\n",
    "ax.plot(alpha,cv_log_error_array,c = 'g')\n",
    "for i, txt in enumerate(np.round(cv_log_error_array,3)):\n",
    "    ax.annotate((alpha[i],np.round(txt,3)), (alpha[i],cv_log_error_array[i]))\n",
    "plt.grid()\n",
    "plt.title('Cross Validation Error for each alpha value')\n",
    "plt.xlabel(\"Alpha i's\")\n",
    "plt.ylabel('Error Measure')\n",
    "plt.show()"
   ]
  },
  {
   "cell_type": "code",
   "execution_count": 93,
   "metadata": {},
   "outputs": [
    {
     "name": "stdout",
     "output_type": "stream",
     "text": [
      "For values of best alpha =  0.001 The TRAIN log loss is: 1.0442246103084027\n",
      "For values of best alpha =  0.001 The VALIDATION(CV) log loss is: 1.6804435166599303\n",
      "For values of best alpha =  0.001 The TEST log loss is: 1.726724164019017\n"
     ]
    }
   ],
   "source": [
    "best_alpha = np.argmin(cv_log_error_array)\n",
    "clf = SGDClassifier(alpha = alpha[best_alpha], penalty='l2',loss='log',random_state=42)\n",
    "clf.fit(train_variation_feature_onehotCoding, y_train)\n",
    "sig_clf = CalibratedClassifierCV(clf,method='sigmoid')\n",
    "sig_clf.fit(train_variation_feature_onehotCoding,y_train)\n",
    "\n",
    "predict_y = sig_clf.predict_proba(train_variation_feature_onehotCoding)\n",
    "print('For values of best alpha = ', alpha[best_alpha],'The TRAIN log loss is:',log_loss(y_train,predict_y,labels=clf.classes_,eps=1e-15))\n",
    "predict_y = sig_clf.predict_proba(cv_variation_feature_onehotCoding)\n",
    "print('For values of best alpha = ', alpha[best_alpha],'The VALIDATION(CV) log loss is:',log_loss(y_cv,predict_y,labels=clf.classes_,eps=1e-15))\n",
    "predict_y = sig_clf.predict_proba(test_variation_feature_onehotCoding)\n",
    "print('For values of best alpha = ', alpha[best_alpha],'The TEST log loss is:',log_loss(y_test,predict_y,labels=clf.classes_,eps=1e-15))\n",
    "\n"
   ]
  },
  {
   "cell_type": "code",
   "execution_count": 94,
   "metadata": {},
   "outputs": [],
   "source": [
    "test_coverage = test_df[test_df['Variation'].isin(list(set(train_df['Variation'])))].shape[0]\n",
    "cv_coverage = df_cv[df_cv['Variation'].isin(list(set(train_df['Variation'])))].shape[0]"
   ]
  },
  {
   "cell_type": "code",
   "execution_count": 95,
   "metadata": {},
   "outputs": [
    {
     "name": "stdout",
     "output_type": "stream",
     "text": [
      "1. In test data 65 out of 665 : 9.774436090225564\n",
      "2. In cross validation data 60 out of 532 : 11.278195488721805\n"
     ]
    }
   ],
   "source": [
    "print('1. In test data', test_coverage, 'out of',test_df.shape[0],':',(test_coverage/test_df.shape[0])*100)\n",
    "print('2. In cross validation data', cv_coverage, 'out of',df_cv.shape[0],':',(cv_coverage/df_cv.shape[0])*100)"
   ]
  },
  {
   "cell_type": "markdown",
   "metadata": {},
   "source": [
    "### Evaluating Feature: Text"
   ]
  },
  {
   "cell_type": "code",
   "execution_count": 96,
   "metadata": {},
   "outputs": [],
   "source": [
    "# extract_dictionary_paddle function:\n",
    "#for every row in the data frame, go for the 'TEXT'\n",
    "#split the words by space\n",
    "# make a dict with those words\n",
    "# increment its count every time the word is found.\n",
    "\n",
    "# get the count of each word                                                                                                                                                 \n",
    "def extract_dictionary_paddle(cls_text):\n",
    "    dictionary = defaultdict(int)\n",
    "    for index,row in cls_text.iterrows():\n",
    "        for word in row['TEXT'].split():\n",
    "            dictionary[word] += 1 \n",
    "    return dictionary"
   ]
  },
  {
   "cell_type": "code",
   "execution_count": 97,
   "metadata": {},
   "outputs": [],
   "source": [
    "# response encoding\n",
    "\n",
    "\n",
    "def get_text_responsecoding(df):\n",
    "    text_feature_responseCoding = np.zeros((df.shape[0],9))\n",
    "    for i in range(0,9):\n",
    "        row_index = 0\n",
    "        for index,row in df.iterrows():\n",
    "            sum_prob = 0\n",
    "            for word in row['TEXT'].split():\n",
    "                sum_prob += math.log(((dict_list[i].get(word,0)+10)/ (total_dict.get(word,0)+90)))\n",
    "            text_feature_responseCoding[row_index][i] = math.exp(sum_prob/len(row['TEXT'].split()))\n",
    "            row_index += 1\n",
    "    return text_feature_responseCoding"
   ]
  },
  {
   "cell_type": "code",
   "execution_count": 98,
   "metadata": {},
   "outputs": [],
   "source": [
    "def get_gv_feature(alpha, feature, df):\n",
    "    gv_dict = get_gv_fea_dict(alpha,feature,df)\n",
    "    value_count = train_df[feature].value_counts()\n",
    "    \n",
    "    gv_fea = []\n",
    "    \n",
    "    for index,row in df.iterrows():\n",
    "        if row[feature] in dict(value_count).keys():\n",
    "            gv_fea.append(gv_dict[row[feature]])\n",
    "        else:\n",
    "            gv_fea.append([1/9,1/9,1/9,1/9,1/9,1/9,1/9,1/9,1/9])\n",
    "    return gv_fea"
   ]
  },
  {
   "cell_type": "code",
   "execution_count": 99,
   "metadata": {},
   "outputs": [
    {
     "name": "stdout",
     "output_type": "stream",
     "text": [
      "Total number of unique words in train data : 53492\n"
     ]
    }
   ],
   "source": [
    "#building a CountVectorizer with all the words that occured minimum 3 times in train data\n",
    "text_vectorizer = CountVectorizer(min_df=3)  # otherwise there will be too many columns to come up.\n",
    "\n",
    "# if i don;t transform the data type to unicode the following raises an error\n",
    "# train_text_feature_onehotCoding = text_vectorizer.fit_transform(train_df['TEXT'].values.astype('U'))\n",
    "train_text_feature_onehotCoding = text_vectorizer.fit_transform(train_df['TEXT'])\n",
    "# All the feature names(words)\n",
    "train_text_features = text_vectorizer.get_feature_names()\n",
    "\n",
    "#train_text_feature_onehotCoding.sum(axis=0).A1 will sum every row and return (1*#of features vector)\n",
    "train_text_fea_counts = train_text_feature_onehotCoding.sum(axis=0).A1\n",
    "\n",
    "#zip(list(text_features),text_fea_counts) will zip a word with its number of times it occurs\n",
    "text_fea_dict = dict(zip(list(train_text_features),train_text_fea_counts))\n",
    "\n",
    "print('Total number of unique words in train data :', len(train_text_features))"
   ]
  },
  {
   "cell_type": "code",
   "execution_count": 100,
   "metadata": {},
   "outputs": [],
   "source": [
    "dict_list = []\n",
    "#dict_list = [] contains 9 dictionaries each corresponds to a class\n",
    "for i in range(1,10):\n",
    "    cls_text = train_df[train_df['Class']==i]\n",
    "    #build a word dict based on the words in that class\n",
    "    cls_text.TEXT = cls_text.TEXT.astype(str)\n",
    "    dict_list.append(extract_dictionary_paddle(cls_text))\n",
    "    #append it to dict_list\n",
    "\n",
    "#dict_list[i] is built on i'th class text data\n",
    "#total_dict is built on whole training text data\n",
    "total_dict = extract_dictionary_paddle(train_df)\n",
    "\n",
    "confuse_array = []\n",
    "for i in train_text_features:\n",
    "    ratios = []\n",
    "    max_val = -1\n",
    "    for j in range(0,9):\n",
    "        ratios.append((dict_list[j][i]+10)/ (total_dict[i]+90))\n",
    "    confuse_array.append(ratios)\n",
    "confuse_array = np.array(confuse_array)\n"
   ]
  },
  {
   "cell_type": "code",
   "execution_count": 101,
   "metadata": {},
   "outputs": [],
   "source": [
    "# Response Encoding of Text Features\n",
    "train_text_feature_responseCoding = get_text_responsecoding(train_df)\n",
    "test_text_feature_responseCoding  = get_text_responsecoding(test_df)\n",
    "cv_text_feature_responseCoding    = get_text_responsecoding(df_cv)"
   ]
  },
  {
   "cell_type": "code",
   "execution_count": 102,
   "metadata": {},
   "outputs": [
    {
     "name": "stdout",
     "output_type": "stream",
     "text": [
      "(2124, 9)\n",
      "(665, 9)\n",
      "(532, 9)\n"
     ]
    }
   ],
   "source": [
    "print(train_text_feature_responseCoding.shape)\n",
    "print(test_text_feature_responseCoding.shape)\n",
    "print(cv_text_feature_responseCoding.shape)\n"
   ]
  },
  {
   "cell_type": "code",
   "execution_count": 103,
   "metadata": {},
   "outputs": [
    {
     "name": "stdout",
     "output_type": "stream",
     "text": [
      "test\n"
     ]
    }
   ],
   "source": [
    "print('test')"
   ]
  },
  {
   "cell_type": "code",
   "execution_count": 104,
   "metadata": {},
   "outputs": [],
   "source": [
    "# convert each row so that it sums up to 1\n",
    "train_text_feature_responseCoding = (train_text_feature_responseCoding.T/train_text_feature_responseCoding.sum(axis=1)).T\n",
    "test_text_feature_responseCoding =  ( test_text_feature_responseCoding.T/ test_text_feature_responseCoding.sum(axis=1)).T\n",
    "cv_text_feature_responseCoding =    (   cv_text_feature_responseCoding.T/cv_text_feature_responseCoding.sum(axis=1)).T"
   ]
  },
  {
   "cell_type": "code",
   "execution_count": 105,
   "metadata": {},
   "outputs": [
    {
     "name": "stdout",
     "output_type": "stream",
     "text": [
      "(2124, 9)\n",
      "(665, 9)\n",
      "(532, 9)\n"
     ]
    }
   ],
   "source": [
    "print(train_text_feature_responseCoding.shape)\n",
    "print(test_text_feature_responseCoding.shape)\n",
    "print(cv_text_feature_responseCoding.shape)"
   ]
  },
  {
   "cell_type": "code",
   "execution_count": 106,
   "metadata": {},
   "outputs": [],
   "source": [
    "#normalizing features\n",
    "train_text_feature_onehotCoding = normalize(train_text_feature_onehotCoding,axis=0)\n",
    "\n",
    "test_text_feature_onehotCoding = text_vectorizer.transform(test_df['TEXT'])\n",
    "test_text_feature_onehotCoding = normalize(test_text_feature_onehotCoding,axis=0)\n",
    "\n",
    "cv_text_feature_onehotCoding = text_vectorizer.transform(df_cv['TEXT'])\n",
    "cv_text_feature_onehotCoding = normalize(cv_text_feature_onehotCoding,axis=0)"
   ]
  },
  {
   "cell_type": "code",
   "execution_count": 107,
   "metadata": {},
   "outputs": [
    {
     "data": {
      "text/plain": [
       "<532x53492 sparse matrix of type '<class 'numpy.float64'>'\n",
       "\twith 827534 stored elements in Compressed Sparse Column format>"
      ]
     },
     "execution_count": 107,
     "metadata": {},
     "output_type": "execute_result"
    }
   ],
   "source": [
    "cv_text_feature_onehotCoding"
   ]
  },
  {
   "cell_type": "code",
   "execution_count": 108,
   "metadata": {},
   "outputs": [],
   "source": [
    "sorted_text_fea_dict = dict(sorted(text_fea_dict.items(), key = lambda x: x[1],reverse = True))\n",
    "sorted_text_occur = np.array(list(sorted_text_fea_dict.values()))"
   ]
  },
  {
   "cell_type": "markdown",
   "metadata": {},
   "source": [
    "The following returns the number of times that a word appears x times in a text."
   ]
  },
  {
   "cell_type": "code",
   "execution_count": 109,
   "metadata": {},
   "outputs": [],
   "source": [
    "# print(Counter(sorted_text_occur))"
   ]
  },
  {
   "cell_type": "markdown",
   "metadata": {},
   "source": [
    "Building the model with feature **TEXT** alone"
   ]
  },
  {
   "cell_type": "code",
   "execution_count": 110,
   "metadata": {},
   "outputs": [
    {
     "name": "stdout",
     "output_type": "stream",
     "text": [
      "For values of alpha =  1e-05 The log loss is: 1.393294821186917\n",
      "For values of alpha =  0.0001 The log loss is: 1.345441092097567\n",
      "For values of alpha =  0.001 The log loss is: 1.2521881459320086\n",
      "For values of alpha =  0.01 The log loss is: 1.3101497486912244\n",
      "For values of alpha =  0.1 The log loss is: 1.41944058752726\n",
      "For values of alpha =  1 The log loss is: 1.6080845578192446\n"
     ]
    }
   ],
   "source": [
    "cv_log_error_array = []\n",
    "for i in alpha:\n",
    "    clf = SGDClassifier(alpha=i, penalty = 'l2', loss = 'log', random_state = 42)\n",
    "    clf.fit(train_text_feature_onehotCoding, y_train)\n",
    "    \n",
    "    sig_clf = CalibratedClassifierCV(clf, method = 'sigmoid')\n",
    "    sig_clf.fit(train_text_feature_onehotCoding, y_train)\n",
    "    predict_y = sig_clf.predict_proba(cv_text_feature_onehotCoding)\n",
    "    cv_log_error_array.append(log_loss(y_cv,predict_y,labels=clf.classes_, eps=1e-15))\n",
    "    print('For values of alpha = ', i, \"The log loss is:\",log_loss(y_cv, predict_y,labels=clf.classes_, eps=1e-15))"
   ]
  },
  {
   "cell_type": "code",
   "execution_count": 111,
   "metadata": {},
   "outputs": [
    {
     "data": {
      "image/png": "[encoded data removed]",
      "text/plain": [
       "<Figure size 432x288 with 1 Axes>"
      ]
     },
     "metadata": {
      "needs_background": "light"
     },
     "output_type": "display_data"
    }
   ],
   "source": [
    "fig, ax = plt.subplots()\n",
    "ax.plot(alpha,cv_log_error_array,c = 'g')\n",
    "for i, txt in enumerate(np.round(cv_log_error_array,3)):\n",
    "    ax.annotate((alpha[i],np.round(txt,3)), (alpha[i],cv_log_error_array[i]))\n",
    "plt.grid()\n",
    "plt.title('Cross Validation Error for each alpha value')\n",
    "plt.xlabel(\"Alpha i's\")\n",
    "plt.ylabel('Error Measure')\n",
    "plt.show()"
   ]
  },
  {
   "cell_type": "markdown",
   "metadata": {},
   "source": [
    "Check the Overlap of the Data"
   ]
  },
  {
   "cell_type": "code",
   "execution_count": 112,
   "metadata": {},
   "outputs": [],
   "source": [
    "def get_intersec_text(df):\n",
    "    df_text_vec = CountVectorizer(min_df=3)\n",
    "    df_text_fea = df_text_vec.fit_transform(df['TEXT'])\n",
    "    df_text_features = df_text_vec.get_feature_names()\n",
    "    \n",
    "    df_text_fea_counts = df_text_fea.sum(axis=0).A1\n",
    "    df_text_fea_dict = dict(zip(list(df_text_features),df_text_fea_counts))\n",
    "    len1 = len(set(df_text_features))\n",
    "    len2 = len(set(train_text_features) & set(df_text_features))\n",
    "    return len1,len2"
   ]
  },
  {
   "cell_type": "code",
   "execution_count": 113,
   "metadata": {},
   "outputs": [
    {
     "name": "stdout",
     "output_type": "stream",
     "text": [
      "95.711 % of word of test data appeared in train\n",
      "97.795 % of word of cross validation data appeared in train\n"
     ]
    }
   ],
   "source": [
    "len1, len2 = get_intersec_text(test_df)\n",
    "print(np.round((len2/len1)*100,3), \"% of word of test data appeared in train\")\n",
    "len1,len2 = get_intersec_text(df_cv)\n",
    "print(np.round((len2/len1)*100,3), \"% of word of cross validation data appeared in train\")"
   ]
  },
  {
   "cell_type": "markdown",
   "metadata": {},
   "source": [
    "# Data Preparation For ML"
   ]
  },
  {
   "cell_type": "markdown",
   "metadata": {},
   "source": [
    "Simply returns the logloss."
   ]
  },
  {
   "cell_type": "code",
   "execution_count": 114,
   "metadata": {},
   "outputs": [],
   "source": [
    "def report_log_loss(X_train, y_train, X_test, y_test, clf):\n",
    "    clf.fit(X_train,y_train)\n",
    "    sig_clf = CalibratedClassifierCV(clf, method = 'sigmoid')\n",
    "    sig_clf.fit(X_train, y_train)\n",
    "    sig_clf_probs = sig_clf.predict_proba(X_test)\n",
    "    return log_loss(y_test, sig_clf_probs, eps = 1e-15)"
   ]
  },
  {
   "cell_type": "code",
   "execution_count": 115,
   "metadata": {},
   "outputs": [],
   "source": [
    "def plot_confusion_matrix(y_test,y_predict):\n",
    "    \n",
    "    C = confusion_matrix(y_test, y_predict)  #confusion matrix\n",
    "    \n",
    "    A = (((C.T)/(C.sum(axis=1))).T)  # precision matrix\n",
    "    \n",
    "    B= (C/C.sum(axis=0))    # recall matrix\n",
    "    labels = list(np.linspace(1, 9, num=9, dtype = int))\n",
    "    \n",
    "    print(\"-\" * 20, 'Confusion Matrix', '-' *20)\n",
    "    plt.figure(figsize=(20,7))\n",
    "    sns.heatmap(C,annot=True,cmap= \"Y1GnBu\",fmt = \".3f\",xticklabels = labels, yticklabels=labels)\n",
    "    plt.xlabel('Predicted Class')\n",
    "    plt.ylabel('Actual Class')\n",
    "    plt.show()\n",
    "    \n",
    "    \n",
    "    print(\"-\" * 20, 'Precision Matrix', '-' *20) \n",
    "    plt.figure(figsize =(20,7))\n",
    "    sns.heatmap(B, annot = True, cmap = \"YlGnBu\",fmt=\".3f\",xticklabels=labels,yticklabels=labels)\n",
    "    plt.xlabel('Predicted Class')\n",
    "    plt.ylabel('Actual Class')\n",
    "    plt.show()\n",
    "\n",
    "    print(\"-\" * 20, 'Recall Matrix', '-' *20) \n",
    "    plt.figure(figsize =(20,7))\n",
    "    sns.heatmap(A, annot = True, cmap = \"YlGnBu\",fmt=\".3f\",xticklabels=labels,yticklabels=labels)\n",
    "    plt.xlabel('Predicted Class')\n",
    "    plt.ylabel('Actual Class')\n",
    "    plt.show()"
   ]
  },
  {
   "cell_type": "code",
   "execution_count": 116,
   "metadata": {},
   "outputs": [],
   "source": [
    "def predict_and_plot_confusion_matrix(X_train,y_train,X_test, y_test, clf):\n",
    "    clf.fit(X_train,y_train)\n",
    "    sig_clf = CalibratedClassifierCV(clf, method='sigmoid')\n",
    "    sig_clf.fit(X_train, y_train)\n",
    "    pred_y = sig_clf.predict(X_test)\n",
    "    \n",
    "    print('Log Loss:', log_loss(y_test, sig_clf.predict_proba(X_test)))\n",
    "    \n",
    "    print('Number of mis-classified points :', np.count_nonzero((y_pred - y_test))/y_test.shape[0])\n",
    "    plot_confusion_matrix(y_test,y_pred)"
   ]
  },
  {
   "cell_type": "code",
   "execution_count": 208,
   "metadata": {},
   "outputs": [],
   "source": [
    "def get_impfeature_names(indices, text,gene,var,no_features):\n",
    "    gene_count_vec = CountVectorizer()\n",
    "    var_count_vec = CountVectorizer()\n",
    "    text_count_vec = CountVectorizer(min_df=3)\n",
    "    \n",
    "    gene_vec = gene_count_vec.fit(train_df['Gene'])\n",
    "    var_vec = var_count_vec.fit(train_df['Variation'])\n",
    "    text_vec = text_count_vec.fit(train_df['TEXT'])\n",
    "    \n",
    "    fea1_len = len(gene_vec.get_feature_names())\n",
    "    fea2_len = len(var_count_vec.get_feature_names())\n",
    "    \n",
    "    word_present = 0\n",
    "    for i,v in enumerate(indices):\n",
    "        if (v< fea1_len):\n",
    "            word = gene_vec.get_feature_names()\n",
    "            yes_no = True if word == gene else False \n",
    "            if yes_no:\n",
    "                word_present += 1\n",
    "                print(i,'Gene feature [{}] present in test data point[{}]'.format(word,yes_no))\n",
    "        elif (v < fea1_len + fea2_len):\n",
    "            word = var_vec.get_feature_names()[v-(fea1_len)]\n",
    "            yes_no = True if word == var else False\n",
    "            if yes_no:\n",
    "                word_present += 1\n",
    "                print(i,'variation feature [{}] present in test data point [{}]'.format(word,yes_no))\n",
    "        else:\n",
    "            word = text_vec.get_feature_names()[v-(fea1_len+fea2_len)]\n",
    "            yes_no = True if word in text.split() else False\n",
    "            if yes_no:\n",
    "                word_present += 1\n",
    "                print(i,'TEXT feature [{}] present in test data point [{}]'.format(word,yes_no))\n",
    "    print('Out of the top ',no_features,' features ', word_present, \"are present in query point\" )\n",
    "        "
   ]
  },
  {
   "cell_type": "markdown",
   "metadata": {},
   "source": [
    "16. Data pre-processing before building\n",
    "machine learning model\n",
    "4min"
   ]
  },
  {
   "cell_type": "markdown",
   "metadata": {},
   "source": [
    "## Combining the 3 features together"
   ]
  },
  {
   "cell_type": "code",
   "execution_count": 121,
   "metadata": {},
   "outputs": [],
   "source": [
    "train_gene_var_onehotCoding = hstack((train_gene_feature_onehotCoding,train_variation_feature_onehotCoding))\n",
    "test_gene_var_onehotCoding = hstack((test_gene_feature_onehotCoding,test_variation_feature_onehotCoding))\n",
    "cv_gene_var_onehotCoding = hstack((cv_gene_feature_onehotCoding,cv_variation_feature_onehotCoding))"
   ]
  },
  {
   "cell_type": "code",
   "execution_count": 122,
   "metadata": {},
   "outputs": [],
   "source": [
    "train_x_onehotCoding = hstack((train_gene_var_onehotCoding, train_text_feature_onehotCoding)).tocsr()\n",
    "train_y = np.array(list(train_df['Class']))\n"
   ]
  },
  {
   "cell_type": "code",
   "execution_count": 123,
   "metadata": {},
   "outputs": [],
   "source": [
    "test_x_onehotCoding = hstack((test_gene_var_onehotCoding, test_text_feature_onehotCoding)).tocsr()\n",
    "test_y = np.array(list(test_df['Class']))"
   ]
  },
  {
   "cell_type": "code",
   "execution_count": 124,
   "metadata": {},
   "outputs": [],
   "source": [
    "cv_x_onehotCoding  = hstack((cv_gene_var_onehotCoding,cv_text_feature_onehotCoding)).tocsr()\n",
    "cv_y = np.array(list(df_cv['Class']))"
   ]
  },
  {
   "cell_type": "code",
   "execution_count": 125,
   "metadata": {},
   "outputs": [],
   "source": [
    "train_gene_var_responseCoding = np.hstack((train_gene_feature_responseCoding,train_variation_feature_responseCoding))\n",
    "test_gene_var_responseCoding =   np.hstack((test_gene_feature_responseCoding, test_variation_feature_responseCoding))\n",
    "cv_gene_var_responseCoding =    np.hstack((cv_gene_feature_responseCoding,cv_variation_feature_responseCoding))"
   ]
  },
  {
   "cell_type": "code",
   "execution_count": 126,
   "metadata": {},
   "outputs": [],
   "source": [
    "train_x_responseCoding = np.hstack((train_gene_var_responseCoding,train_text_feature_responseCoding))\n",
    "test_x_responseCoding = np.hstack((test_gene_var_responseCoding, test_text_feature_responseCoding))\n",
    "cv_x_responseCoding = np.hstack((cv_gene_var_responseCoding,cv_text_feature_responseCoding))"
   ]
  },
  {
   "cell_type": "markdown",
   "metadata": {},
   "source": [
    "Lets Have a look eh?"
   ]
  },
  {
   "cell_type": "markdown",
   "metadata": {},
   "source": [
    "Features of One Hot Encoding"
   ]
  },
  {
   "cell_type": "code",
   "execution_count": 127,
   "metadata": {},
   "outputs": [
    {
     "name": "stdout",
     "output_type": "stream",
     "text": [
      "train -  #of rows 2124, #of features 55681\n",
      "test  -  #of rows 665,  #of features 55681\n",
      "cv    -  #of rows 532,  #of features 55681\n"
     ]
    }
   ],
   "source": [
    "print(f'train -  #of rows {train_x_onehotCoding.shape[0]}, #of features {train_x_onehotCoding.shape[1]}')\n",
    "print(f'test  -  #of rows {test_x_onehotCoding.shape[0]},  #of features {test_x_onehotCoding.shape[1]}')\n",
    "print(f'cv    -  #of rows {cv_x_onehotCoding.shape[0]},  #of features {cv_x_onehotCoding.shape[1]}')"
   ]
  },
  {
   "cell_type": "markdown",
   "metadata": {},
   "source": [
    "Features of Response Encoding"
   ]
  },
  {
   "cell_type": "code",
   "execution_count": 128,
   "metadata": {},
   "outputs": [
    {
     "name": "stdout",
     "output_type": "stream",
     "text": [
      "train -  #of rows 2124, #of features 27\n",
      "test  -  #of rows 665,  #of features 27\n",
      "cv    -  #of rows 532,  #of features 27\n"
     ]
    }
   ],
   "source": [
    "print(f'train -  #of rows {train_x_responseCoding.shape[0]}, #of features {train_x_responseCoding.shape[1]}')\n",
    "print(f'test  -  #of rows {test_x_responseCoding.shape[0]},  #of features {test_x_responseCoding.shape[1]}')\n",
    "print(f'cv    -  #of rows {cv_x_responseCoding.shape[0]},  #of features {cv_x_responseCoding.shape[1]}')"
   ]
  },
  {
   "cell_type": "markdown",
   "metadata": {},
   "source": [
    "With regular one hot transformer we significantly increase the dimensionality. Compared to that the extra 27 features is prefered as a result of responseEncoding"
   ]
  },
  {
   "cell_type": "markdown",
   "metadata": {},
   "source": [
    "## Modelling"
   ]
  },
  {
   "cell_type": "markdown",
   "metadata": {},
   "source": [
    "Naive Bayes"
   ]
  },
  {
   "cell_type": "code",
   "execution_count": 132,
   "metadata": {},
   "outputs": [
    {
     "name": "stdout",
     "output_type": "stream",
     "text": [
      "for alpha=  1e-05 Log Loss is  1.2610109355296057\n",
      "for alpha=  0.0001 Log Loss is  1.2573883296290198\n",
      "for alpha=  0.001 Log Loss is  1.2600503753202974\n",
      "for alpha=  0.1 Log Loss is  1.2905473271737402\n",
      "for alpha=  1 Log Loss is  1.2785533026254572\n",
      "for alpha=  10 Log Loss is  1.4129581802528635\n",
      "for alpha=  100 Log Loss is  1.392259745124413\n",
      "for alpha=  1000 Log Loss is  1.348997382259471\n"
     ]
    }
   ],
   "source": [
    "alpha = [0.00001, 0.0001, 0.001, 0.1,1,10,100, 1000]\n",
    "cv_log_error_array = []\n",
    "for i in alpha:\n",
    "    clf = MultinomialNB(alpha=i)\n",
    "    clf.fit(train_x_onehotCoding, train_y)\n",
    "    sig_clf = CalibratedClassifierCV(clf,method='sigmoid')\n",
    "    sig_clf.fit(train_x_onehotCoding, train_y)\n",
    "    sig_clf_probs = sig_clf.predict_proba(cv_x_onehotCoding)\n",
    "    cv_log_error_array.append(log_loss(cv_y,sig_clf_probs))\n",
    "    print('for alpha= ', i,'Log Loss is ',log_loss(cv_y,sig_clf_probs))"
   ]
  },
  {
   "cell_type": "code",
   "execution_count": 137,
   "metadata": {},
   "outputs": [
    {
     "data": {
      "image/png": "[encoded data removed]",
      "text/plain": [
       "<Figure size 432x288 with 1 Axes>"
      ]
     },
     "metadata": {
      "needs_background": "light"
     },
     "output_type": "display_data"
    }
   ],
   "source": [
    "fig, ax = plt.subplots()\n",
    "ax.plot(np.log10(alpha),cv_log_error_array,c = 'g')\n",
    "for i, txt in enumerate(np.round(cv_log_error_array,3)):\n",
    "    ax.annotate((alpha[i],str(txt)), (np.log10(alpha[i]),cv_log_error_array[i]))\n",
    "plt.grid()\n",
    "plt.title('Cross Validation Error for each alpha value')\n",
    "plt.xlabel(\"Alpha i's\")\n",
    "plt.ylabel('Error Measure')\n",
    "plt.show()"
   ]
  },
  {
   "cell_type": "code",
   "execution_count": 155,
   "metadata": {},
   "outputs": [
    {
     "name": "stdout",
     "output_type": "stream",
     "text": [
      "For values of best alpha=  0.0001 The train log loss is  0.82\n",
      "For values of best alpha=  0.0001 The train log loss is  1.26\n",
      "For values of best alpha=  0.0001 The train log loss is  1.33\n"
     ]
    }
   ],
   "source": [
    "best_alpha = np.argmin(cv_log_error_array)\n",
    "clf = MultinomialNB(alpha= alpha[best_alpha])\n",
    "clf.fit(train_x_onehotCoding, train_y)\n",
    "sig_clf = CalibratedClassifierCV(clf,method='sigmoid')\n",
    "sig_clf.fit(train_x_onehotCoding, train_y)\n",
    "\n",
    "predict_y = sig_clf.predict_proba(train_x_onehotCoding)\n",
    "print('For values of best alpha= ',alpha[best_alpha],'The train log loss is ',round(log_loss(train_y,predict_y),2))\n",
    "predict_y = sig_clf.predict_proba(cv_x_onehotCoding)\n",
    "print('For values of best alpha= ',alpha[best_alpha],'The train log loss is ',round(log_loss(cv_y,predict_y),2))\n",
    "predict_y = sig_clf.predict_proba(test_x_onehotCoding)\n",
    "print('For values of best alpha= ',alpha[best_alpha],'The train log loss is ',round(log_loss(test_y,predict_y),2))"
   ]
  },
  {
   "cell_type": "markdown",
   "metadata": {},
   "source": [
    "Test the naive Bayes Model woth best alpha on testing data."
   ]
  },
  {
   "cell_type": "code",
   "execution_count": 223,
   "metadata": {},
   "outputs": [],
   "source": [
    "def plot_confusion_matrix(y_test,y_predict):\n",
    "    \n",
    "    C = confusion_matrix(y_test, y_predict)  #confusion matrix\n",
    "    \n",
    "    A = (((C.T)/(C.sum(axis=1))).T)  # precision matrix\n",
    "    \n",
    "    B= (C/C.sum(axis=0))    # recall matrix\n",
    "    labels = list(np.linspace(1, 9, num=9, dtype = int))\n",
    "    \n",
    "    print(\"-\" * 45, 'Confusion Matrix', '-' *45)\n",
    "    plt.figure(figsize=(20,7))\n",
    "    sns.heatmap(C, annot = True, cmap = \"YlGnBu\",fmt=\".3f\",xticklabels=labels,yticklabels=labels)\n",
    "    plt.xlabel('Predicted Class')\n",
    "    plt.ylabel('Actual Class')\n",
    "    plt.show()\n",
    "    \n",
    "    print('\\n' * 2 )\n",
    "    print(\"-\" * 45, 'Precision Matrix', '-' *45) \n",
    "    plt.figure(figsize =(20,7))\n",
    "    sns.heatmap(B, annot = True, cmap = \"YlGnBu\",fmt=\".3f\",xticklabels=labels,yticklabels=labels)\n",
    "    plt.xlabel('Predicted Class')\n",
    "    plt.ylabel('Actual Class')\n",
    "    plt.show()\n",
    "\n",
    "    print('\\n' * 2 )\n",
    "    print(\"-\" * 45, 'Recall Matrix', '-' *45) \n",
    "    plt.figure(figsize =(20,7))\n",
    "    sns.heatmap(A, annot = True, cmap = \"YlGnBu\",fmt=\".3f\",xticklabels=labels,yticklabels=labels)\n",
    "    plt.xlabel('Predicted Class')\n",
    "    plt.ylabel('Actual Class')\n",
    "    plt.show()"
   ]
  },
  {
   "cell_type": "code",
   "execution_count": 224,
   "metadata": {},
   "outputs": [
    {
     "name": "stdout",
     "output_type": "stream",
     "text": [
      "Log Loss : 1.4029255736651756\n",
      "--------------------------------------------- Confusion Matrix ---------------------------------------------\n"
     ]
    },
    {
     "data": {
      "image/png": "[encoded data removed]",
      "text/plain": [
       "<Figure size 1440x504 with 2 Axes>"
      ]
     },
     "metadata": {
      "needs_background": "light"
     },
     "output_type": "display_data"
    },
    {
     "name": "stdout",
     "output_type": "stream",
     "text": [
      "\n",
      "\n",
      "\n",
      "--------------------------------------------- Precision Matrix ---------------------------------------------\n"
     ]
    },
    {
     "data": {
      "image/png": "[encoded data removed]",
      "text/plain": [
       "<Figure size 1440x504 with 2 Axes>"
      ]
     },
     "metadata": {
      "needs_background": "light"
     },
     "output_type": "display_data"
    },
    {
     "name": "stdout",
     "output_type": "stream",
     "text": [
      "\n",
      "\n",
      "\n",
      "--------------------------------------------- Recall Matrix ---------------------------------------------\n"
     ]
    },
    {
     "data": {
      "image/png": "[encoded data removed]",
      "text/plain": [
       "<Figure size 1440x504 with 2 Axes>"
      ]
     },
     "metadata": {
      "needs_background": "light"
     },
     "output_type": "display_data"
    }
   ],
   "source": [
    "clf = MultinomialNB(alpha=alpha[best_alpha])\n",
    "clf.fit(train_x_onehotCoding, train_y)\n",
    "sig_clf = CalibratedClassifierCV(clf, method ='sigmoid')\n",
    "sig_clf.fit(train_x_onehotCoding, train_y)\n",
    "sig_clf_probs = sig_clf.predict_proba(cv_x_onehotCoding)\n",
    "\n",
    "print('Log Loss :',log_loss(cv_y,sig_clf_probs))\n",
    "# print('Number of missclassified data points ',np.count_nonzero((sig_clf.predict(cv_x_onehotCoding.toarray()))))\n",
    "plot_confusion_matrix(cv_y,sig_clf.predict(cv_x_onehotCoding.toarray()))\n",
    "\n"
   ]
  },
  {
   "cell_type": "markdown",
   "metadata": {},
   "source": [
    "Model Interpretability"
   ]
  },
  {
   "cell_type": "markdown",
   "metadata": {},
   "source": [
    "Have a look at the first point."
   ]
  },
  {
   "cell_type": "code",
   "execution_count": 210,
   "metadata": {},
   "outputs": [
    {
     "name": "stdout",
     "output_type": "stream",
     "text": [
      "Predicted Class : 6\n",
      "Predicted Class Probabilities: [[0.0708 0.0831 0.0102 0.101  0.0316 0.6004 0.096  0.0039 0.003 ]]\n",
      "Actual Class : 6\n",
      "--------------------------------------------------\n",
      "7 TEXT feature [brca] present in test data point [True]\n",
      "8 TEXT feature [i124v] present in test data point [True]\n",
      "11 TEXT feature [personal] present in test data point [True]\n",
      "20 TEXT feature [history] present in test data point [True]\n",
      "22 TEXT feature [1jm7] present in test data point [True]\n",
      "Out of the top  50  features  5 are present in query point\n"
     ]
    }
   ],
   "source": [
    "test_point_index = 1\n",
    "no_feature = 100\n",
    "predicted_cls = sig_clf.predict(test_x_onehotCoding[test_point_index])\n",
    "print('Predicted Class :', predicted_cls[0])\n",
    "print('Predicted Class Probabilities:', np.round(sig_clf.predict_proba(test_x_onehotCoding[test_point_index]),4))\n",
    "print('Actual Class :', test_y[test_point_index])\n",
    "indices = np.argsort(-clf.coef_)[predicted_cls-1][:,:no_feature]\n",
    "print('-'*50)\n",
    "get_impfeature_names(indices[0],test_df['TEXT'].iloc[test_point_index],test_df['Gene'].iloc[test_point_index],test_df['Variation'].iloc[test_point_index],50)"
   ]
  },
  {
   "cell_type": "markdown",
   "metadata": {},
   "source": [
    "100th point."
   ]
  },
  {
   "cell_type": "code",
   "execution_count": 211,
   "metadata": {},
   "outputs": [
    {
     "name": "stdout",
     "output_type": "stream",
     "text": [
      "Predicted Class : 1\n",
      "Predicted Class Probabilities: [[0.5844 0.0962 0.0118 0.117  0.0364 0.0351 0.1111 0.0045 0.0035]]\n",
      "Actual Class : 1\n",
      "--------------------------------------------------\n",
      "11 TEXT feature [function] present in test data point [True]\n",
      "12 TEXT feature [protein] present in test data point [True]\n",
      "13 TEXT feature [type] present in test data point [True]\n",
      "16 TEXT feature [affect] present in test data point [True]\n",
      "17 TEXT feature [reduced] present in test data point [True]\n",
      "18 TEXT feature [one] present in test data point [True]\n",
      "19 TEXT feature [two] present in test data point [True]\n",
      "20 TEXT feature [binding] present in test data point [True]\n",
      "21 TEXT feature [loss] present in test data point [True]\n",
      "22 TEXT feature [sequences] present in test data point [True]\n",
      "23 TEXT feature [specific] present in test data point [True]\n",
      "24 TEXT feature [amino] present in test data point [True]\n",
      "25 TEXT feature [sequence] present in test data point [True]\n",
      "26 TEXT feature [containing] present in test data point [True]\n",
      "27 TEXT feature [functions] present in test data point [True]\n",
      "28 TEXT feature [acids] present in test data point [True]\n",
      "30 TEXT feature [present] present in test data point [True]\n",
      "32 TEXT feature [possible] present in test data point [True]\n",
      "38 TEXT feature [involved] present in test data point [True]\n",
      "41 TEXT feature [six] present in test data point [True]\n",
      "42 TEXT feature [corresponding] present in test data point [True]\n",
      "44 TEXT feature [remains] present in test data point [True]\n",
      "45 TEXT feature [specificity] present in test data point [True]\n",
      "47 TEXT feature [four] present in test data point [True]\n",
      "48 TEXT feature [essential] present in test data point [True]\n",
      "49 TEXT feature [gene] present in test data point [True]\n",
      "51 TEXT feature [ability] present in test data point [True]\n",
      "52 TEXT feature [effect] present in test data point [True]\n",
      "53 TEXT feature [determined] present in test data point [True]\n",
      "54 TEXT feature [surface] present in test data point [True]\n",
      "55 TEXT feature [least] present in test data point [True]\n",
      "56 TEXT feature [region] present in test data point [True]\n",
      "58 TEXT feature [individual] present in test data point [True]\n",
      "59 TEXT feature [indicated] present in test data point [True]\n",
      "60 TEXT feature [also] present in test data point [True]\n",
      "61 TEXT feature [large] present in test data point [True]\n",
      "62 TEXT feature [identified] present in test data point [True]\n",
      "63 TEXT feature [contains] present in test data point [True]\n",
      "64 TEXT feature [form] present in test data point [True]\n",
      "65 TEXT feature [possibility] present in test data point [True]\n",
      "66 TEXT feature [results] present in test data point [True]\n",
      "68 TEXT feature [many] present in test data point [True]\n",
      "69 TEXT feature [conserved] present in test data point [True]\n",
      "70 TEXT feature [likely] present in test data point [True]\n",
      "71 TEXT feature [different] present in test data point [True]\n",
      "72 TEXT feature [central] present in test data point [True]\n",
      "73 TEXT feature [control] present in test data point [True]\n",
      "75 TEXT feature [changes] present in test data point [True]\n",
      "76 TEXT feature [reveal] present in test data point [True]\n",
      "77 TEXT feature [result] present in test data point [True]\n",
      "79 TEXT feature [shown] present in test data point [True]\n",
      "81 TEXT feature [analysis] present in test data point [True]\n",
      "82 TEXT feature [length] present in test data point [True]\n",
      "83 TEXT feature [structure] present in test data point [True]\n",
      "84 TEXT feature [proteins] present in test data point [True]\n",
      "85 TEXT feature [within] present in test data point [True]\n",
      "86 TEXT feature [used] present in test data point [True]\n",
      "87 TEXT feature [using] present in test data point [True]\n",
      "88 TEXT feature [terminal] present in test data point [True]\n",
      "89 TEXT feature [either] present in test data point [True]\n",
      "90 TEXT feature [data] present in test data point [True]\n",
      "91 TEXT feature [table] present in test data point [True]\n",
      "92 TEXT feature [whereas] present in test data point [True]\n",
      "93 TEXT feature [important] present in test data point [True]\n",
      "94 TEXT feature [may] present in test data point [True]\n",
      "95 TEXT feature [similar] present in test data point [True]\n",
      "96 TEXT feature [three] present in test data point [True]\n",
      "99 TEXT feature [multiple] present in test data point [True]\n",
      "Out of the top  100  features  68 are present in query point\n"
     ]
    }
   ],
   "source": [
    "test_point_index = 100\n",
    "no_feature = 100\n",
    "predicted_cls = sig_clf.predict(test_x_onehotCoding[test_point_index])\n",
    "print('Predicted Class :', predicted_cls[0])\n",
    "print('Predicted Class Probabilities:', np.round(sig_clf.predict_proba(test_x_onehotCoding[test_point_index]),4))\n",
    "print('Actual Class :', test_y[test_point_index])\n",
    "indices = np.argsort(-clf.coef_)[predicted_cls-1][:,:no_feature]\n",
    "print('-'*50)\n",
    "get_impfeature_names(indices[0],test_df['TEXT'].iloc[test_point_index],test_df['Gene'].iloc[test_point_index],test_df['Variation'].iloc[test_point_index],100)"
   ]
  },
  {
   "cell_type": "markdown",
   "metadata": {},
   "source": [
    "## KNN"
   ]
  },
  {
   "cell_type": "code",
   "execution_count": 215,
   "metadata": {},
   "outputs": [
    {
     "name": "stdout",
     "output_type": "stream",
     "text": [
      "for akoha =  5\n",
      "Log Loss : 4.008823298593176\n",
      "for akoha =  11\n",
      "Log Loss : 3.7917781780121\n",
      "for akoha =  15\n",
      "Log Loss : 3.540341656024505\n",
      "for akoha =  21\n",
      "Log Loss : 3.1319400716284704\n",
      "for akoha =  31\n",
      "Log Loss : 2.7585968271488275\n",
      "for akoha =  41\n",
      "Log Loss : 2.643040320545938\n",
      "for akoha =  51\n",
      "Log Loss : 2.7822391115908847\n",
      "for akoha =  99\n",
      "Log Loss : 3.0109735211731996\n"
     ]
    }
   ],
   "source": [
    "alpha = [5,11,15,21,31,41,51,99]\n",
    "\n",
    "cv_log_error_array = []\n",
    "\n",
    "for i in alpha:\n",
    "    print('for akoha = ', i)\n",
    "    clf = KNeighborsClassifier(n_neighbors=i)\n",
    "    clf.fit(train_x_responseCoding, train_y)\n",
    "    sig_clf = CalibratedClassifierCV(clf,method='sigmoid')\n",
    "    sig_clf.fit(train_x_responseCoding, train_y)\n",
    "    sig_clf_probs = sig_clf.predict_proba(cv_x_responseCoding)\n",
    "    cv_log_error_array.append(log_loss(cv_y,sig_clf_probs, labels = clf.classes_,eps=1e-15))\n",
    "    \n",
    "    print('Log Loss :',log_loss(cv_y,sig_clf_probs))"
   ]
  },
  {
   "cell_type": "code",
   "execution_count": 217,
   "metadata": {},
   "outputs": [
    {
     "data": {
      "image/png": "[encoded data removed]",
      "text/plain": [
       "<Figure size 432x288 with 1 Axes>"
      ]
     },
     "metadata": {
      "needs_background": "light"
     },
     "output_type": "display_data"
    }
   ],
   "source": [
    "fig, ax = plt.subplots()\n",
    "ax.plot(alpha,cv_log_error_array,c = 'g')\n",
    "for i, txt in enumerate(np.round(cv_log_error_array,3)):\n",
    "    ax.annotate((alpha[i],str(txt)), (alpha[i],cv_log_error_array[i]))\n",
    "plt.grid()\n",
    "plt.title('Cross Validation Error for each alpha value')\n",
    "plt.xlabel(\"Alpha i's\")\n",
    "plt.ylabel('Error Measure')\n",
    "plt.show()"
   ]
  },
  {
   "cell_type": "code",
   "execution_count": 219,
   "metadata": {},
   "outputs": [
    {
     "name": "stdout",
     "output_type": "stream",
     "text": [
      "For values of best alpha=  41 The train log loss is  0.33\n",
      "For values of best alpha=  41 The train log loss is  2.64\n",
      "For values of best alpha=  41 The train log loss is  2.62\n"
     ]
    }
   ],
   "source": [
    "best_alpha = np.argmin(cv_log_error_array)\n",
    "clf = KNeighborsClassifier(n_neighbors= alpha[best_alpha])\n",
    "clf.fit(train_x_responseCoding, train_y)\n",
    "sig_clf = CalibratedClassifierCV(clf,method='sigmoid')\n",
    "sig_clf.fit(train_x_responseCoding, train_y)\n",
    "\n",
    "predict_y = sig_clf.predict_proba(train_x_responseCoding)\n",
    "print('For values of best alpha= ',alpha[best_alpha],'The train log loss is ',round(log_loss(train_y,predict_y),2))\n",
    "predict_y = sig_clf.predict_proba(cv_x_responseCoding)\n",
    "print('For values of best alpha= ',alpha[best_alpha],'The train log loss is ',round(log_loss(cv_y,predict_y),2))\n",
    "predict_y = sig_clf.predict_proba(test_x_responseCoding)\n",
    "print('For values of best alpha= ',alpha[best_alpha],'The train log loss is ',round(log_loss(test_y,predict_y),2))"
   ]
  },
  {
   "cell_type": "markdown",
   "metadata": {},
   "source": [
    "## To DO"
   ]
  },
  {
   "cell_type": "markdown",
   "metadata": {},
   "source": [
    "- MORE MODELS!\n",
    "- GRIDSEARCH AMONG MORE MODELS\n",
    "- Type more interpretation"
   ]
  },
  {
   "cell_type": "code",
   "execution_count": null,
   "metadata": {},
   "outputs": [],
   "source": []
  }
 ],
 "metadata": {
  "kernelspec": {
   "display_name": "Python 3",
   "language": "python",
   "name": "python3"
  },
  "language_info": {
   "codemirror_mode": {
    "name": "ipython",
    "version": 3
   },
   "file_extension": ".py",
   "mimetype": "text/x-python",
   "name": "python",
   "nbconvert_exporter": "python",
   "pygments_lexer": "ipython3",
   "version": "3.6.8"
  }
 },
 "nbformat": 4,
 "nbformat_minor": 2
}
